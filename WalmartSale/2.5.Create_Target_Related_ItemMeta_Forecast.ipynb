{
 "cells": [
  {
   "cell_type": "markdown",
   "metadata": {},
   "source": [
    "# Create a Forecast using Target, Related and Item-meta Data\n",
    "* **About 40 mins may be elapsed**"
   ]
  },
  {
   "cell_type": "code",
   "execution_count": 1,
   "metadata": {},
   "outputs": [],
   "source": [
    "import boto3\n",
    "from time import sleep\n",
    "import pandas as pd\n",
    "import json\n",
    "import time\n",
    "import pprint\n",
    "import numpy as np"
   ]
  },
  {
   "cell_type": "code",
   "execution_count": 2,
   "metadata": {},
   "outputs": [],
   "source": [
    "%store -r"
   ]
  },
  {
   "cell_type": "code",
   "execution_count": 3,
   "metadata": {},
   "outputs": [],
   "source": [
    "session = boto3.Session(region_name=region)\n",
    "forecast = session.client(service_name='forecast')"
   ]
  },
  {
   "cell_type": "markdown",
   "metadata": {},
   "source": [
    "## Create Prophet and DeepAR+ Campaign"
   ]
  },
  {
   "cell_type": "code",
   "execution_count": 4,
   "metadata": {},
   "outputs": [],
   "source": [
    "# Prophet\n",
    "item_meta_prophet_forecastName = project+'_prophet_algo_forecast' + item_meta_suffix + suffix\n",
    "prophet_create_forecast_response=forecast.create_forecast(\n",
    "    ForecastName = item_meta_prophet_forecastName,\n",
    "    PredictorArn = item_meta_prophet_predictor_arn)\n"
   ]
  },
  {
   "cell_type": "code",
   "execution_count": 5,
   "metadata": {},
   "outputs": [
    {
     "data": {
      "text/plain": [
       "{'ForecastArn': 'arn:aws:forecast:us-east-2:057716757052:forecast/WalmartKaggleWithThreeDatasets_prophet_algo_forecast_ItemM92608',\n",
       " 'ForecastName': 'WalmartKaggleWithThreeDatasets_prophet_algo_forecast_ItemM92608',\n",
       " 'ForecastTypes': ['0.1', '0.5', '0.9'],\n",
       " 'PredictorArn': 'arn:aws:forecast:us-east-2:057716757052:predictor/WalmartKaggleWithThreeDatasets_prophet_algo_1_ItemM92608',\n",
       " 'DatasetGroupArn': 'arn:aws:forecast:us-east-2:057716757052:dataset-group/WalmartKaggleWithThreeDatasetsDSG_ItemM35988',\n",
       " 'Status': 'CREATE_PENDING',\n",
       " 'CreationTime': datetime.datetime(2020, 4, 5, 7, 18, 33, 709000, tzinfo=tzlocal()),\n",
       " 'LastModificationTime': datetime.datetime(2020, 4, 5, 7, 18, 33, 709000, tzinfo=tzlocal()),\n",
       " 'ResponseMetadata': {'RequestId': 'b0f00310-dbb3-4184-bb6b-8dc47a39ed5a',\n",
       "  'HTTPStatusCode': 200,\n",
       "  'HTTPHeaders': {'content-type': 'application/x-amz-json-1.1',\n",
       "   'date': 'Sun, 05 Apr 2020 07:18:34 GMT',\n",
       "   'x-amzn-requestid': 'b0f00310-dbb3-4184-bb6b-8dc47a39ed5a',\n",
       "   'content-length': '588',\n",
       "   'connection': 'keep-alive'},\n",
       "  'RetryAttempts': 0}}"
      ]
     },
     "execution_count": 5,
     "metadata": {},
     "output_type": "execute_result"
    }
   ],
   "source": [
    "item_meta_prophet_forecast_arn = prophet_create_forecast_response['ForecastArn']\n",
    "forecast.describe_forecast(ForecastArn = item_meta_prophet_forecast_arn)"
   ]
  },
  {
   "cell_type": "code",
   "execution_count": 6,
   "metadata": {},
   "outputs": [],
   "source": [
    "# DeepAR+\n",
    "item_meta_deeparp_forecastName = project+'_deeparp_algo_forecast' + item_meta_suffix + suffix\n",
    "deeparp_create_forecast_response=forecast.create_forecast(\n",
    "    ForecastName = item_meta_deeparp_forecastName,\n",
    "    PredictorArn = item_meta_deepar_predictor_arn)\n"
   ]
  },
  {
   "cell_type": "code",
   "execution_count": 7,
   "metadata": {},
   "outputs": [
    {
     "data": {
      "text/plain": [
       "{'ForecastArn': 'arn:aws:forecast:us-east-2:057716757052:forecast/WalmartKaggleWithThreeDatasets_deeparp_algo_forecast_ItemM92608',\n",
       " 'ForecastName': 'WalmartKaggleWithThreeDatasets_deeparp_algo_forecast_ItemM92608',\n",
       " 'ForecastTypes': ['0.1', '0.5', '0.9'],\n",
       " 'PredictorArn': 'arn:aws:forecast:us-east-2:057716757052:predictor/WalmartKaggleWithThreeDatasets_deeparp_algo_1_ItemM92608',\n",
       " 'DatasetGroupArn': 'arn:aws:forecast:us-east-2:057716757052:dataset-group/WalmartKaggleWithThreeDatasetsDSG_ItemM35988',\n",
       " 'Status': 'CREATE_PENDING',\n",
       " 'CreationTime': datetime.datetime(2020, 4, 5, 7, 18, 34, 694000, tzinfo=tzlocal()),\n",
       " 'LastModificationTime': datetime.datetime(2020, 4, 5, 7, 18, 34, 694000, tzinfo=tzlocal()),\n",
       " 'ResponseMetadata': {'RequestId': 'a130531b-94dd-4bd7-88c3-8b11f8109f77',\n",
       "  'HTTPStatusCode': 200,\n",
       "  'HTTPHeaders': {'content-type': 'application/x-amz-json-1.1',\n",
       "   'date': 'Sun, 05 Apr 2020 07:18:35 GMT',\n",
       "   'x-amzn-requestid': 'a130531b-94dd-4bd7-88c3-8b11f8109f77',\n",
       "   'content-length': '588',\n",
       "   'connection': 'keep-alive'},\n",
       "  'RetryAttempts': 0}}"
      ]
     },
     "execution_count": 7,
     "metadata": {},
     "output_type": "execute_result"
    }
   ],
   "source": [
    "item_meta_deeparp_forecast_arn = deeparp_create_forecast_response['ForecastArn']\n",
    "forecast.describe_forecast(ForecastArn = item_meta_deeparp_forecast_arn)"
   ]
  },
  {
   "cell_type": "code",
   "execution_count": 8,
   "metadata": {},
   "outputs": [
    {
     "name": "stdout",
     "output_type": "stream",
     "text": [
      "Prophet:  CREATE_PENDING\n",
      "DeepARP:  CREATE_PENDING\n",
      "Prophet:  CREATE_IN_PROGRESS\n",
      "DeepARP:  CREATE_IN_PROGRESS\n",
      "Prophet:  CREATE_IN_PROGRESS\n",
      "DeepARP:  CREATE_IN_PROGRESS\n",
      "Prophet:  CREATE_IN_PROGRESS\n",
      "DeepARP:  CREATE_IN_PROGRESS\n",
      "Prophet:  CREATE_IN_PROGRESS\n",
      "DeepARP:  CREATE_IN_PROGRESS\n",
      "Prophet:  CREATE_IN_PROGRESS\n",
      "DeepARP:  CREATE_IN_PROGRESS\n",
      "Prophet:  CREATE_IN_PROGRESS\n",
      "DeepARP:  CREATE_IN_PROGRESS\n",
      "Prophet:  CREATE_IN_PROGRESS\n",
      "DeepARP:  CREATE_IN_PROGRESS\n",
      "Prophet:  CREATE_IN_PROGRESS\n",
      "DeepARP:  CREATE_IN_PROGRESS\n",
      "Prophet:  CREATE_IN_PROGRESS\n",
      "DeepARP:  CREATE_IN_PROGRESS\n",
      "Prophet:  CREATE_IN_PROGRESS\n",
      "DeepARP:  CREATE_IN_PROGRESS\n",
      "Prophet:  CREATE_IN_PROGRESS\n",
      "DeepARP:  CREATE_IN_PROGRESS\n",
      "Prophet:  CREATE_IN_PROGRESS\n",
      "DeepARP:  CREATE_IN_PROGRESS\n",
      "Prophet:  CREATE_IN_PROGRESS\n",
      "DeepARP:  CREATE_IN_PROGRESS\n",
      "Prophet:  CREATE_IN_PROGRESS\n",
      "DeepARP:  CREATE_IN_PROGRESS\n",
      "Prophet:  CREATE_IN_PROGRESS\n",
      "DeepARP:  CREATE_IN_PROGRESS\n",
      "Prophet:  CREATE_IN_PROGRESS\n",
      "DeepARP:  CREATE_IN_PROGRESS\n",
      "Prophet:  CREATE_IN_PROGRESS\n",
      "DeepARP:  CREATE_IN_PROGRESS\n",
      "Prophet:  CREATE_IN_PROGRESS\n",
      "DeepARP:  CREATE_IN_PROGRESS\n",
      "Prophet:  ACTIVE\n",
      "DeepARP:  ACTIVE\n",
      "Prophet:  ACTIVE\n",
      "DeepARP:  ACTIVE\n",
      "Prophet:  ACTIVE\n",
      "DeepARP:  ACTIVE\n",
      "Prophet:  ACTIVE\n",
      "DeepARP:  ACTIVE\n",
      "Prophet:  ACTIVE\n",
      "DeepARP:  ACTIVE\n",
      "Prophet:  ACTIVE\n",
      "DeepARP:  ACTIVE\n",
      "Prophet:  ACTIVE\n",
      "DeepARP:  ACTIVE\n",
      "Prophet:  ACTIVE\n",
      "DeepARP:  ACTIVE\n",
      "Prophet:  ACTIVE\n",
      "DeepARP:  ACTIVE\n",
      "Prophet:  ACTIVE\n",
      "DeepARP:  ACTIVE\n",
      "Prophet:  ACTIVE\n",
      "DeepARP:  ACTIVE\n",
      "CPU times: user 198 ms, sys: 15.7 ms, total: 214 ms\n",
      "Wall time: 29min 4s\n"
     ]
    }
   ],
   "source": [
    "%%time\n",
    "# Check the Prophet status\n",
    "\n",
    "while True:\n",
    "    createProphetStatus = forecast.describe_forecast(ForecastArn= item_meta_prophet_forecast_arn)['Status']\n",
    "    createDeeparpStatus = forecast.describe_forecast(ForecastArn= item_meta_deeparp_forecast_arn)['Status']    \n",
    "    print(\"Prophet: \", createProphetStatus)\n",
    "    print(\"DeepARP: \", createProphetStatus)          \n",
    "    if createProphetStatus != 'ACTIVE' and createProphetStatus != 'CREATE_FAILED':\n",
    "        sleep(60)\n",
    "    elif createDeeparpStatus != 'ACTIVE' and createDeeparpStatus != 'CREATE_FAILED':\n",
    "        sleep(60)\n",
    "    else:\n",
    "        break"
   ]
  },
  {
   "cell_type": "markdown",
   "metadata": {},
   "source": [
    "## Upload forecast results to S3"
   ]
  },
  {
   "cell_type": "code",
   "execution_count": 9,
   "metadata": {},
   "outputs": [],
   "source": [
    "meta_data_prophet_path = \"s3://\" + bucket_name + \"/\" + bucket_folder + \"/prophet_\" + item_meta_suffix + suffix + \"/\" \n",
    "meta_data_prophet_job_name = \"ProphetExport1\" + item_meta_suffix + suffix\n",
    "create_forecast_export_job_prophet_response = forecast.create_forecast_export_job(\n",
    "    ForecastExportJobName = meta_data_prophet_job_name,\n",
    "    ForecastArn = item_meta_prophet_forecast_arn,\n",
    "    Destination={\n",
    "        \"S3Config\" : {\n",
    "            \"Path\": meta_data_prophet_path,\n",
    "            \"RoleArn\": role_arn\n",
    "        }\n",
    "    })\n"
   ]
  },
  {
   "cell_type": "code",
   "execution_count": 10,
   "metadata": {},
   "outputs": [
    {
     "data": {
      "text/plain": [
       "{'ForecastExportJobArn': 'arn:aws:forecast:us-east-2:057716757052:forecast-export-job/WalmartKaggleWithThreeDatasets_prophet_algo_forecast_ItemM92608/ProphetExport1_ItemM92608',\n",
       " 'ForecastExportJobName': 'ProphetExport1_ItemM92608',\n",
       " 'ForecastArn': 'arn:aws:forecast:us-east-2:057716757052:forecast/WalmartKaggleWithThreeDatasets_prophet_algo_forecast_ItemM92608',\n",
       " 'Destination': {'S3Config': {'Path': 's3://sagemaker-us-east-2-057716757052/WalmartKaggleWithThreeDatasets/prophet__ItemM92608',\n",
       "   'RoleArn': 'arn:aws:iam::057716757052:role/ForecastRoleWalmart35988'}},\n",
       " 'Status': 'CREATE_PENDING',\n",
       " 'CreationTime': datetime.datetime(2020, 4, 5, 7, 47, 40, 777000, tzinfo=tzlocal()),\n",
       " 'LastModificationTime': datetime.datetime(2020, 4, 5, 7, 47, 40, 777000, tzinfo=tzlocal()),\n",
       " 'ResponseMetadata': {'RequestId': 'e7f417d0-256f-418b-861d-a31e62607b86',\n",
       "  'HTTPStatusCode': 200,\n",
       "  'HTTPHeaders': {'content-type': 'application/x-amz-json-1.1',\n",
       "   'date': 'Sun, 05 Apr 2020 07:47:40 GMT',\n",
       "   'x-amzn-requestid': 'e7f417d0-256f-418b-861d-a31e62607b86',\n",
       "   'content-length': '650',\n",
       "   'connection': 'keep-alive'},\n",
       "  'RetryAttempts': 0}}"
      ]
     },
     "execution_count": 10,
     "metadata": {},
     "output_type": "execute_result"
    }
   ],
   "source": [
    "ItemMetaForecastProphetExportJobArn = create_forecast_export_job_prophet_response[\"ForecastExportJobArn\"]\n",
    "forecast.describe_forecast_export_job(ForecastExportJobArn = ItemMetaForecastProphetExportJobArn)"
   ]
  },
  {
   "cell_type": "code",
   "execution_count": 11,
   "metadata": {},
   "outputs": [],
   "source": [
    "item_meta_deeparp_path = \"s3://\" + bucket_name + \"/\" + bucket_folder  + \"/deeparp_\" + item_meta_suffix + suffix + \"/\" \n",
    "item_meta_deeparp_job_name = \"DeepARPExport1\" + item_meta_suffix + suffix\n",
    "create_forecast_export_job_deepar_response = forecast.create_forecast_export_job(\n",
    "    ForecastExportJobName=item_meta_deeparp_job_name,\n",
    "    ForecastArn=item_meta_deeparp_forecast_arn,\n",
    "    Destination={\n",
    "        \"S3Config\" : {\n",
    "            \"Path\": item_meta_deeparp_path,\n",
    "            \"RoleArn\": role_arn\n",
    "        }\n",
    "    })"
   ]
  },
  {
   "cell_type": "code",
   "execution_count": 12,
   "metadata": {},
   "outputs": [
    {
     "data": {
      "text/plain": [
       "{'ForecastExportJobArn': 'arn:aws:forecast:us-east-2:057716757052:forecast-export-job/WalmartKaggleWithThreeDatasets_deeparp_algo_forecast_ItemM92608/DeepARPExport1_ItemM92608',\n",
       " 'ForecastExportJobName': 'DeepARPExport1_ItemM92608',\n",
       " 'ForecastArn': 'arn:aws:forecast:us-east-2:057716757052:forecast/WalmartKaggleWithThreeDatasets_deeparp_algo_forecast_ItemM92608',\n",
       " 'Destination': {'S3Config': {'Path': 's3://sagemaker-us-east-2-057716757052/WalmartKaggleWithThreeDatasets/deeparp__ItemM92608',\n",
       "   'RoleArn': 'arn:aws:iam::057716757052:role/ForecastRoleWalmart35988'}},\n",
       " 'Status': 'CREATE_PENDING',\n",
       " 'CreationTime': datetime.datetime(2020, 4, 5, 7, 47, 41, 53000, tzinfo=tzlocal()),\n",
       " 'LastModificationTime': datetime.datetime(2020, 4, 5, 7, 47, 41, 53000, tzinfo=tzlocal()),\n",
       " 'ResponseMetadata': {'RequestId': '86725499-fb19-48d8-b342-3914045dff05',\n",
       "  'HTTPStatusCode': 200,\n",
       "  'HTTPHeaders': {'content-type': 'application/x-amz-json-1.1',\n",
       "   'date': 'Sun, 05 Apr 2020 07:47:41 GMT',\n",
       "   'x-amzn-requestid': '86725499-fb19-48d8-b342-3914045dff05',\n",
       "   'content-length': '650',\n",
       "   'connection': 'keep-alive'},\n",
       "  'RetryAttempts': 0}}"
      ]
     },
     "execution_count": 12,
     "metadata": {},
     "output_type": "execute_result"
    }
   ],
   "source": [
    "ItemMetaForecastDeeparExportJobArn = create_forecast_export_job_deepar_response[\"ForecastExportJobArn\"]\n",
    "forecast.describe_forecast_export_job(ForecastExportJobArn = ItemMetaForecastDeeparExportJobArn)"
   ]
  },
  {
   "cell_type": "code",
   "execution_count": 13,
   "metadata": {},
   "outputs": [
    {
     "name": "stdout",
     "output_type": "stream",
     "text": [
      "Prophet:  CREATE_PENDING\n",
      "DeepARP:  CREATE_PENDING\n",
      "Prophet:  CREATE_IN_PROGRESS\n",
      "DeepARP:  CREATE_IN_PROGRESS\n",
      "Prophet:  CREATE_IN_PROGRESS\n",
      "DeepARP:  CREATE_IN_PROGRESS\n",
      "Prophet:  CREATE_IN_PROGRESS\n",
      "DeepARP:  CREATE_IN_PROGRESS\n",
      "Prophet:  CREATE_IN_PROGRESS\n",
      "DeepARP:  CREATE_IN_PROGRESS\n",
      "Prophet:  ACTIVE\n",
      "DeepARP:  ACTIVE\n",
      "CPU times: user 39.4 ms, sys: 0 ns, total: 39.4 ms\n",
      "Wall time: 5min\n"
     ]
    }
   ],
   "source": [
    "%%time\n",
    "# Check the Prophet status\n",
    "\n",
    "while True:\n",
    "    createProphetStatus = forecast.describe_forecast_export_job(ForecastExportJobArn= ItemMetaForecastProphetExportJobArn)['Status']\n",
    "    createDeeparpStatus = forecast.describe_forecast_export_job(ForecastExportJobArn= ItemMetaForecastDeeparExportJobArn)['Status']    \n",
    "    print(\"Prophet: \", createProphetStatus)\n",
    "    print(\"DeepARP: \", createProphetStatus)          \n",
    "    if createProphetStatus != 'ACTIVE' and createProphetStatus != 'CREATE_FAILED':\n",
    "        sleep(60)\n",
    "    elif createDeeparpStatus != 'ACTIVE' and createDeeparpStatus != 'CREATE_FAILED':\n",
    "        sleep(60)\n",
    "    else:\n",
    "        break"
   ]
  },
  {
   "cell_type": "code",
   "execution_count": 15,
   "metadata": {},
   "outputs": [
    {
     "name": "stdout",
     "output_type": "stream",
     "text": [
      "Stored 'item_meta_prophet_forecast_arn' (str)\n",
      "Stored 'item_meta_deeparp_forecast_arn' (str)\n",
      "Stored 'ItemMetaForecastProphetExportJobArn' (str)\n",
      "Stored 'ItemMetaForecastDeeparExportJobArn' (str)\n"
     ]
    }
   ],
   "source": [
    "%store item_meta_prophet_forecast_arn\n",
    "%store item_meta_deeparp_forecast_arn\n",
    "%store ItemMetaForecastProphetExportJobArn\n",
    "%store ItemMetaForecastDeeparExportJobArn\n",
    "\n"
   ]
  },
  {
   "cell_type": "code",
   "execution_count": null,
   "metadata": {},
   "outputs": [],
   "source": []
  }
 ],
 "metadata": {
  "kernelspec": {
   "display_name": "conda_python3",
   "language": "python",
   "name": "conda_python3"
  },
  "language_info": {
   "codemirror_mode": {
    "name": "ipython",
    "version": 3
   },
   "file_extension": ".py",
   "mimetype": "text/x-python",
   "name": "python",
   "nbconvert_exporter": "python",
   "pygments_lexer": "ipython3",
   "version": "3.6.5"
  }
 },
 "nbformat": 4,
 "nbformat_minor": 4
}
