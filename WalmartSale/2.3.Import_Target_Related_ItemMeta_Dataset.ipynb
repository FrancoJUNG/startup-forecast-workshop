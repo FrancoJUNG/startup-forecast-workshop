{
 "cells": [
  {
   "cell_type": "markdown",
   "metadata": {},
   "source": [
    "# Import Target, Related and Item Meta Dataset\n",
    "* This notebook has the following processes:\n",
    "    * Create IAM role\n",
    "    * Create a dataset group\n",
    "    * Create a schema for a dataset\n",
    "    * Create the dataset\n",
    "    * Attach the dataset to the dataset group\n",
    "    * Create a dataset import job\n",
    "    \n",
    "    \n",
    "* **About 10 mins may be elapsed**\n"
   ]
  },
  {
   "cell_type": "code",
   "execution_count": 1,
   "metadata": {},
   "outputs": [],
   "source": [
    "import boto3\n",
    "from time import sleep\n",
    "import os\n",
    "import pandas as pd\n",
    "import json\n",
    "import time\n",
    "import pprint\n",
    "import numpy as np"
   ]
  },
  {
   "cell_type": "markdown",
   "metadata": {},
   "source": [
    "## Parameters"
   ]
  },
  {
   "cell_type": "code",
   "execution_count": 2,
   "metadata": {},
   "outputs": [],
   "source": [
    "%store -r"
   ]
  },
  {
   "cell_type": "code",
   "execution_count": 41,
   "metadata": {},
   "outputs": [],
   "source": [
    "DATASET_FREQUENCY = \"W\" \n",
    "TIMESTAMP_FORMAT = \"yyyy-MM-dd\"\n",
    "\n",
    "project = 'WalmartKaggleWithThreeDatasets'\n",
    "suffix = str(np.random.uniform())[4:9]\n",
    "target_suffix = '_target'\n",
    "related_suffix = '_related'\n",
    "item_meta_suffix = '_ItemM'\n",
    "\n",
    "target_datasetName= project+'DS' + target_suffix + suffix\n",
    "item_meta_dataset_name= project+'DS' + item_meta_suffix + suffix\n",
    "related_dataset_Name= project+'DS' + related_suffix + suffix\n",
    "item_datasetGroupName= project +'DSG'+ item_meta_suffix + suffix"
   ]
  },
  {
   "cell_type": "code",
   "execution_count": 4,
   "metadata": {},
   "outputs": [
    {
     "name": "stdout",
     "output_type": "stream",
     "text": [
      "us-east-2\n"
     ]
    }
   ],
   "source": [
    "with open('/opt/ml/metadata/resource-metadata.json') as notebook_info:\n",
    "     data = json.load(notebook_info)\n",
    "     resource_arn = data['ResourceArn']\n",
    "     region = resource_arn.split(':')[3]\n",
    "print(region)"
   ]
  },
  {
   "cell_type": "code",
   "execution_count": 5,
   "metadata": {},
   "outputs": [],
   "source": [
    "session = boto3.Session(region_name=region)\n",
    "forecast = session.client(service_name='forecast')\n",
    "forecast_query = session.client(service_name='forecastquery')"
   ]
  },
  {
   "cell_type": "markdown",
   "metadata": {},
   "source": [
    "## Create role\n",
    "**Make sure that a role for SageMaker notebook instance has these policies attached such as AmazonSageMakerFullAccess, AmazonS3FullAccess, AmazonForecastFullAccess, IAMFullAccess**"
   ]
  },
  {
   "cell_type": "code",
   "execution_count": 7,
   "metadata": {},
   "outputs": [
    {
     "name": "stdout",
     "output_type": "stream",
     "text": [
      "arn:aws:iam::057716757052:role/ForecastRoleWalmart35988\n"
     ]
    }
   ],
   "source": [
    "iam = boto3.client(\"iam\")\n",
    "\n",
    "# Put the role name\n",
    "role_name = \"ForecastRoleWalmart\" + suffix\n",
    "assume_role_policy_document = {\n",
    "    \"Version\": \"2012-10-17\",\n",
    "    \"Statement\": [\n",
    "        {\n",
    "          \"Effect\": \"Allow\",\n",
    "          \"Principal\": {\n",
    "            \"Service\": \"forecast.amazonaws.com\"\n",
    "          },\n",
    "          \"Action\": \"sts:AssumeRole\"\n",
    "        }\n",
    "    ]\n",
    "}\n",
    "\n",
    "create_role_response = iam.create_role(\n",
    "    RoleName = role_name,\n",
    "    AssumeRolePolicyDocument = json.dumps(assume_role_policy_document)\n",
    ")\n",
    "\n",
    "# AmazonPersonalizeFullAccess provides access to any S3 bucket with a name that includes \"personalize\" or \"Personalize\" \n",
    "# if you would like tåo use a bucket with a different name, please consider creating and attaching a new policy\n",
    "# that provides read access to your bucket or attaching the AmazonS3ReadOnlyAccess policy to the role\n",
    "policy_arn = \"arn:aws:iam::aws:policy/AmazonForecastFullAccess\"\n",
    "iam.attach_role_policy(\n",
    "    RoleName = role_name,\n",
    "    PolicyArn = policy_arn\n",
    ")\n",
    "\n",
    "# Now add S3 support\n",
    "iam.attach_role_policy(\n",
    "    PolicyArn='arn:aws:iam::aws:policy/AmazonS3FullAccess',\n",
    "    RoleName=role_name\n",
    ")\n",
    "time.sleep(60) # wait for a minute to allow IAM role policy attachment to propagate\n",
    "\n",
    "role_arn = create_role_response[\"Role\"][\"Arn\"]\n",
    "print(role_arn)"
   ]
  },
  {
   "cell_type": "markdown",
   "metadata": {},
   "source": [
    "## Create DatasetGroup"
   ]
  },
  {
   "cell_type": "code",
   "execution_count": 8,
   "metadata": {},
   "outputs": [],
   "source": [
    "# Create the DatasetGroup\n",
    "create_dataset_group_response = forecast.create_dataset_group(\n",
    "      DatasetGroupName=item_datasetGroupName,\n",
    "      Domain=\"CUSTOM\",\n",
    "     )\n",
    "item_meta_datasetGroupArn = create_dataset_group_response['DatasetGroupArn']"
   ]
  },
  {
   "cell_type": "code",
   "execution_count": 9,
   "metadata": {},
   "outputs": [
    {
     "data": {
      "text/plain": [
       "{'DatasetGroupName': 'WalmartKaggleWithThreeDatasetsDSG_ItemM35988',\n",
       " 'DatasetGroupArn': 'arn:aws:forecast:us-east-2:057716757052:dataset-group/WalmartKaggleWithThreeDatasetsDSG_ItemM35988',\n",
       " 'DatasetArns': [],\n",
       " 'Domain': 'CUSTOM',\n",
       " 'Status': 'ACTIVE',\n",
       " 'CreationTime': datetime.datetime(2020, 4, 5, 6, 18, 41, 965000, tzinfo=tzlocal()),\n",
       " 'LastModificationTime': datetime.datetime(2020, 4, 5, 6, 18, 41, 965000, tzinfo=tzlocal()),\n",
       " 'ResponseMetadata': {'RequestId': 'd1e1a5ef-3abe-4bf1-b314-195c817b7c2e',\n",
       "  'HTTPStatusCode': 200,\n",
       "  'HTTPHeaders': {'content-type': 'application/x-amz-json-1.1',\n",
       "   'date': 'Sun, 05 Apr 2020 06:18:49 GMT',\n",
       "   'x-amzn-requestid': 'd1e1a5ef-3abe-4bf1-b314-195c817b7c2e',\n",
       "   'content-length': '311',\n",
       "   'connection': 'keep-alive'},\n",
       "  'RetryAttempts': 0}}"
      ]
     },
     "execution_count": 9,
     "metadata": {},
     "output_type": "execute_result"
    }
   ],
   "source": [
    "forecast.describe_dataset_group(DatasetGroupArn=item_meta_datasetGroupArn)"
   ]
  },
  {
   "cell_type": "markdown",
   "metadata": {},
   "source": [
    "## Create schema for target data"
   ]
  },
  {
   "cell_type": "code",
   "execution_count": 10,
   "metadata": {},
   "outputs": [],
   "source": [
    "# Specify the schema of your dataset here. Make sure the order of columns matches the raw data files.\n",
    "target_schema ={\n",
    "   \"Attributes\":[\n",
    "      {\n",
    "         \"AttributeName\":\"timestamp\",\n",
    "         \"AttributeType\":\"timestamp\"\n",
    "      },\n",
    "      {\n",
    "         \"AttributeName\":\"target_value\",\n",
    "         \"AttributeType\":\"float\"\n",
    "      },\n",
    "      {\n",
    "         \"AttributeName\":\"item_id\",\n",
    "         \"AttributeType\":\"string\"\n",
    "      }\n",
    "   ]\n",
    "}"
   ]
  },
  {
   "cell_type": "markdown",
   "metadata": {},
   "source": [
    "## Create Target Time Sereis Dataset"
   ]
  },
  {
   "cell_type": "code",
   "execution_count": 11,
   "metadata": {},
   "outputs": [],
   "source": [
    "response=forecast.create_dataset(\n",
    "                    Domain=\"CUSTOM\",\n",
    "                    DatasetType='TARGET_TIME_SERIES',\n",
    "                    DatasetName=target_datasetName,\n",
    "                    DataFrequency=DATASET_FREQUENCY, \n",
    "                    Schema = target_schema\n",
    ")"
   ]
  },
  {
   "cell_type": "code",
   "execution_count": 13,
   "metadata": {},
   "outputs": [
    {
     "data": {
      "text/plain": [
       "{'DatasetArn': 'arn:aws:forecast:us-east-2:057716757052:dataset/WalmartKaggleWithThreeDatasetsDS_target35988',\n",
       " 'DatasetName': 'WalmartKaggleWithThreeDatasetsDS_target35988',\n",
       " 'Domain': 'CUSTOM',\n",
       " 'DatasetType': 'TARGET_TIME_SERIES',\n",
       " 'DataFrequency': 'W',\n",
       " 'Schema': {'Attributes': [{'AttributeName': 'timestamp',\n",
       "    'AttributeType': 'timestamp'},\n",
       "   {'AttributeName': 'target_value', 'AttributeType': 'float'},\n",
       "   {'AttributeName': 'item_id', 'AttributeType': 'string'}]},\n",
       " 'EncryptionConfig': {},\n",
       " 'Status': 'ACTIVE',\n",
       " 'CreationTime': datetime.datetime(2020, 4, 5, 6, 18, 55, 721000, tzinfo=tzlocal()),\n",
       " 'LastModificationTime': datetime.datetime(2020, 4, 5, 6, 18, 55, 721000, tzinfo=tzlocal()),\n",
       " 'ResponseMetadata': {'RequestId': '8ed27c6a-dc8e-4e41-83f6-398efa35b3ed',\n",
       "  'HTTPStatusCode': 200,\n",
       "  'HTTPHeaders': {'content-type': 'application/x-amz-json-1.1',\n",
       "   'date': 'Sun, 05 Apr 2020 06:21:20 GMT',\n",
       "   'x-amzn-requestid': '8ed27c6a-dc8e-4e41-83f6-398efa35b3ed',\n",
       "   'content-length': '549',\n",
       "   'connection': 'keep-alive'},\n",
       "  'RetryAttempts': 0}}"
      ]
     },
     "execution_count": 13,
     "metadata": {},
     "output_type": "execute_result"
    }
   ],
   "source": [
    "target_second_datasetArn = response['DatasetArn']\n",
    "forecast.describe_dataset(DatasetArn=target_second_datasetArn)"
   ]
  },
  {
   "cell_type": "markdown",
   "metadata": {},
   "source": [
    "## Create schema for related data"
   ]
  },
  {
   "cell_type": "code",
   "execution_count": 15,
   "metadata": {},
   "outputs": [],
   "source": [
    "# Specify the schema of your dataset here. Make sure the order of columns matches the raw data files.\n",
    "related_schema ={\n",
    "   \"Attributes\":[\n",
    "      {\n",
    "         \"AttributeName\":\"timestamp\",\n",
    "         \"AttributeType\":\"timestamp\"\n",
    "      },\n",
    "      {\n",
    "         \"AttributeName\":\"Temperature\",\n",
    "         \"AttributeType\":\"float\"\n",
    "      },\n",
    "      {\n",
    "         \"AttributeName\":\"Fuel_Price\",\n",
    "         \"AttributeType\":\"float\"\n",
    "      },\n",
    "      {\n",
    "         \"AttributeName\":\"item_id\",\n",
    "         \"AttributeType\":\"string\"\n",
    "      }       \n",
    "   ]\n",
    "}"
   ]
  },
  {
   "cell_type": "markdown",
   "metadata": {},
   "source": [
    "## Create Related Time Sereis Dataset"
   ]
  },
  {
   "cell_type": "code",
   "execution_count": 16,
   "metadata": {},
   "outputs": [],
   "source": [
    "response=forecast.create_dataset(\n",
    "                    Domain=\"CUSTOM\",\n",
    "                    DatasetType='RELATED_TIME_SERIES',\n",
    "                    DatasetName=related_dataset_Name,\n",
    "                    DataFrequency=DATASET_FREQUENCY, \n",
    "                    Schema = related_schema\n",
    ")"
   ]
  },
  {
   "cell_type": "code",
   "execution_count": 17,
   "metadata": {},
   "outputs": [
    {
     "data": {
      "text/plain": [
       "{'DatasetArn': 'arn:aws:forecast:us-east-2:057716757052:dataset/WalmartKaggleWithThreeDatasetsDS_related35988',\n",
       " 'DatasetName': 'WalmartKaggleWithThreeDatasetsDS_related35988',\n",
       " 'Domain': 'CUSTOM',\n",
       " 'DatasetType': 'RELATED_TIME_SERIES',\n",
       " 'DataFrequency': 'W',\n",
       " 'Schema': {'Attributes': [{'AttributeName': 'timestamp',\n",
       "    'AttributeType': 'timestamp'},\n",
       "   {'AttributeName': 'Temperature', 'AttributeType': 'float'},\n",
       "   {'AttributeName': 'Fuel_Price', 'AttributeType': 'float'},\n",
       "   {'AttributeName': 'item_id', 'AttributeType': 'string'}]},\n",
       " 'EncryptionConfig': {},\n",
       " 'Status': 'ACTIVE',\n",
       " 'CreationTime': datetime.datetime(2020, 4, 5, 6, 21, 28, 676000, tzinfo=tzlocal()),\n",
       " 'LastModificationTime': datetime.datetime(2020, 4, 5, 6, 21, 28, 676000, tzinfo=tzlocal()),\n",
       " 'ResponseMetadata': {'RequestId': '5d55938b-9956-4d84-84b0-0daea6b2620b',\n",
       "  'HTTPStatusCode': 200,\n",
       "  'HTTPHeaders': {'content-type': 'application/x-amz-json-1.1',\n",
       "   'date': 'Sun, 05 Apr 2020 06:21:32 GMT',\n",
       "   'x-amzn-requestid': '5d55938b-9956-4d84-84b0-0daea6b2620b',\n",
       "   'content-length': '606',\n",
       "   'connection': 'keep-alive'},\n",
       "  'RetryAttempts': 0}}"
      ]
     },
     "execution_count": 17,
     "metadata": {},
     "output_type": "execute_result"
    }
   ],
   "source": [
    "related_datasetArn = response['DatasetArn']\n",
    "forecast.describe_dataset(DatasetArn=related_datasetArn)"
   ]
  },
  {
   "cell_type": "markdown",
   "metadata": {},
   "source": [
    "## Create schema for Item Meta data"
   ]
  },
  {
   "cell_type": "code",
   "execution_count": 18,
   "metadata": {},
   "outputs": [],
   "source": [
    "# Specify the schema of your dataset here. Make sure the order of columns matches the raw data files.\n",
    "item_meta_schema ={\n",
    "   \"Attributes\":[\n",
    "      {\n",
    "         \"AttributeName\":\"item_id\",\n",
    "         \"AttributeType\":\"string\"\n",
    "      },       \n",
    "      {\n",
    "         \"AttributeName\":\"StoreType\",\n",
    "         \"AttributeType\":\"string\"\n",
    "      }       \n",
    "   ]\n",
    "}"
   ]
  },
  {
   "cell_type": "markdown",
   "metadata": {},
   "source": [
    "## Create Item-Meta Dataset"
   ]
  },
  {
   "cell_type": "code",
   "execution_count": 19,
   "metadata": {},
   "outputs": [],
   "source": [
    "response=forecast.create_dataset(\n",
    "                    Domain=\"CUSTOM\",\n",
    "                    DatasetType='ITEM_METADATA',\n",
    "                    DatasetName=item_meta_dataset_name,\n",
    "                    DataFrequency=DATASET_FREQUENCY, \n",
    "                    Schema = item_meta_schema\n",
    ")"
   ]
  },
  {
   "cell_type": "code",
   "execution_count": 20,
   "metadata": {},
   "outputs": [
    {
     "data": {
      "text/plain": [
       "{'DatasetArn': 'arn:aws:forecast:us-east-2:057716757052:dataset/WalmartKaggleWithThreeDatasetsDS_ItemM35988',\n",
       " 'DatasetName': 'WalmartKaggleWithThreeDatasetsDS_ItemM35988',\n",
       " 'Domain': 'CUSTOM',\n",
       " 'DatasetType': 'ITEM_METADATA',\n",
       " 'Schema': {'Attributes': [{'AttributeName': 'item_id',\n",
       "    'AttributeType': 'string'},\n",
       "   {'AttributeName': 'StoreType', 'AttributeType': 'string'}]},\n",
       " 'EncryptionConfig': {},\n",
       " 'Status': 'ACTIVE',\n",
       " 'CreationTime': datetime.datetime(2020, 4, 5, 6, 21, 46, 13000, tzinfo=tzlocal()),\n",
       " 'LastModificationTime': datetime.datetime(2020, 4, 5, 6, 21, 46, 13000, tzinfo=tzlocal()),\n",
       " 'ResponseMetadata': {'RequestId': 'f47f33fc-e6f6-4a3f-a7c0-e11df74a9db7',\n",
       "  'HTTPStatusCode': 200,\n",
       "  'HTTPHeaders': {'content-type': 'application/x-amz-json-1.1',\n",
       "   'date': 'Sun, 05 Apr 2020 06:22:58 GMT',\n",
       "   'x-amzn-requestid': 'f47f33fc-e6f6-4a3f-a7c0-e11df74a9db7',\n",
       "   'content-length': '462',\n",
       "   'connection': 'keep-alive'},\n",
       "  'RetryAttempts': 0}}"
      ]
     },
     "execution_count": 20,
     "metadata": {},
     "output_type": "execute_result"
    }
   ],
   "source": [
    "item_meta_datasetArn = response['DatasetArn']\n",
    "forecast.describe_dataset(DatasetArn=item_meta_datasetArn)"
   ]
  },
  {
   "cell_type": "markdown",
   "metadata": {},
   "source": [
    "## Attach the target, related and item_meta dataset to the DatasetGroup"
   ]
  },
  {
   "cell_type": "code",
   "execution_count": 21,
   "metadata": {},
   "outputs": [
    {
     "data": {
      "text/plain": [
       "{'ResponseMetadata': {'RequestId': '0812c913-2a4b-404d-b2c2-1cd8efcffeb0',\n",
       "  'HTTPStatusCode': 200,\n",
       "  'HTTPHeaders': {'content-type': 'application/x-amz-json-1.1',\n",
       "   'date': 'Sun, 05 Apr 2020 06:23:05 GMT',\n",
       "   'x-amzn-requestid': '0812c913-2a4b-404d-b2c2-1cd8efcffeb0',\n",
       "   'content-length': '2',\n",
       "   'connection': 'keep-alive'},\n",
       "  'RetryAttempts': 0}}"
      ]
     },
     "execution_count": 21,
     "metadata": {},
     "output_type": "execute_result"
    }
   ],
   "source": [
    "# Attach the target dataset and related data set  to the Dataset Group:\n",
    "forecast.update_dataset_group(\n",
    "    DatasetGroupArn=item_meta_datasetGroupArn, \n",
    "    DatasetArns=[target_second_datasetArn,\n",
    "                 related_datasetArn,\n",
    "                 item_meta_datasetArn])"
   ]
  },
  {
   "cell_type": "markdown",
   "metadata": {},
   "source": [
    "## Create a bucket"
   ]
  },
  {
   "cell_type": "code",
   "execution_count": 22,
   "metadata": {},
   "outputs": [
    {
     "name": "stdout",
     "output_type": "stream",
     "text": [
      "bucket name is  sagemaker-us-east-2-057716757052\n"
     ]
    }
   ],
   "source": [
    "import boto3\n",
    "import sagemaker\n",
    "\n",
    "s3_resource = boto3.resource('s3')\n",
    "s3 = boto3.client('s3')\n",
    "\n",
    "# if you want, replace with a name of your S3 bucket\n",
    "bucket_name = sagemaker.Session().default_bucket()  \n",
    "\n",
    "if s3_resource.Bucket(bucket_name).creation_date is None:\n",
    "    # bucket is not existing \n",
    "    s3.create_bucket(Bucket=bucket_name, CreateBucketConfiguration={'LocationConstraint': region})    \n",
    "else: \n",
    "    # Bucket exists\n",
    "    print(\"bucket name is \", bucket_name)\n",
    "    "
   ]
  },
  {
   "cell_type": "markdown",
   "metadata": {},
   "source": [
    "### Upload three data to S3"
   ]
  },
  {
   "cell_type": "code",
   "execution_count": 30,
   "metadata": {},
   "outputs": [],
   "source": [
    "# Upload Target File under a bucket folder\n",
    "bucket_folder = project\n",
    "s3_file_path = bucket_folder + \"/\" + target_time_series_filename\n",
    "\n",
    "boto3.Session().resource('s3').Bucket(bucket_name).Object(s3_file_path).upload_file(target_time_series_path)\n",
    "target_s3DataPath = \"s3://\"+bucket_name + \"/\" + s3_file_path"
   ]
  },
  {
   "cell_type": "code",
   "execution_count": 31,
   "metadata": {},
   "outputs": [],
   "source": [
    "# Upload Related File under a bucket folder\n",
    "bucket_folder = project\n",
    "s3_file_path = bucket_folder + \"/\" + related_time_series_filename\n",
    "\n",
    "boto3.Session().resource('s3').Bucket(bucket_name).Object(s3_file_path).upload_file(related_time_series_path)\n",
    "related_s3DataPath = \"s3://\"+bucket_name + \"/\" + s3_file_path"
   ]
  },
  {
   "cell_type": "code",
   "execution_count": 32,
   "metadata": {},
   "outputs": [],
   "source": [
    "# Upload Item Meta File under a bucket folder\n",
    "bucket_folder = project\n",
    "s3_file_path = bucket_folder + \"/\" + store_meta_filename\n",
    "\n",
    "boto3.Session().resource('s3').Bucket(bucket_name).Object(s3_file_path).upload_file(store_meta_path)\n",
    "item_meta_s3DataPath = \"s3://\"+bucket_name + \"/\" + s3_file_path"
   ]
  },
  {
   "cell_type": "markdown",
   "metadata": {},
   "source": [
    "## Create dataset_import_job used to download dataset from S3"
   ]
  },
  {
   "cell_type": "code",
   "execution_count": 26,
   "metadata": {},
   "outputs": [],
   "source": [
    "# Target Import Job\n",
    "datasetImportJobName = 'DSIMPORT_JOB_TARGET_WALMART' + suffix\n",
    "ds_import_job_response=forecast.create_dataset_import_job(DatasetImportJobName=datasetImportJobName,\n",
    "                                                          DatasetArn=target_second_datasetArn,\n",
    "                                                          DataSource= {\n",
    "                                                              \"S3Config\" : {\n",
    "                                                                 \"Path\":target_s3DataPath,\n",
    "                                                                 \"RoleArn\": role_arn\n",
    "                                                              } \n",
    "                                                          },\n",
    "                                                          TimestampFormat=TIMESTAMP_FORMAT\n",
    "                                                         )"
   ]
  },
  {
   "cell_type": "code",
   "execution_count": 27,
   "metadata": {},
   "outputs": [
    {
     "name": "stdout",
     "output_type": "stream",
     "text": [
      "arn:aws:forecast:us-east-2:057716757052:dataset-import-job/WalmartKaggleWithThreeDatasetsDS_target35988/DSIMPORT_JOB_TARGET_WALMART35988\n"
     ]
    }
   ],
   "source": [
    "ds_target_second_import_job_arn=ds_import_job_response['DatasetImportJobArn']\n",
    "print(ds_target_second_import_job_arn)"
   ]
  },
  {
   "cell_type": "code",
   "execution_count": 33,
   "metadata": {},
   "outputs": [],
   "source": [
    "# Related Import Job\n",
    "datasetImportJobName = 'DSIMPORT_JOB_RELATED_WALMART' + related_suffix + suffix\n",
    "ds_import_job_response=forecast.create_dataset_import_job(DatasetImportJobName=datasetImportJobName,\n",
    "                                                          DatasetArn=related_datasetArn,\n",
    "                                                          DataSource= {\n",
    "                                                              \"S3Config\" : {\n",
    "                                                                 \"Path\":related_s3DataPath,\n",
    "                                                                 \"RoleArn\": role_arn\n",
    "                                                              } \n",
    "                                                          },\n",
    "                                                          TimestampFormat=TIMESTAMP_FORMAT\n",
    "                                                         )"
   ]
  },
  {
   "cell_type": "code",
   "execution_count": 34,
   "metadata": {},
   "outputs": [
    {
     "name": "stdout",
     "output_type": "stream",
     "text": [
      "arn:aws:forecast:us-east-2:057716757052:dataset-import-job/WalmartKaggleWithThreeDatasetsDS_related35988/DSIMPORT_JOB_RELATED_WALMART_related35988\n"
     ]
    }
   ],
   "source": [
    "ds_related_import_job_arn=ds_import_job_response['DatasetImportJobArn']\n",
    "print(ds_related_import_job_arn)"
   ]
  },
  {
   "cell_type": "code",
   "execution_count": 35,
   "metadata": {},
   "outputs": [],
   "source": [
    "# Finally we can call import the dataset\n",
    "datasetImportJobName = 'DSIMPORT_JOB_RELATED_WALMART' + related_suffix + suffix\n",
    "ds_import_job_response=forecast.create_dataset_import_job(DatasetImportJobName=datasetImportJobName,\n",
    "                                                          DatasetArn=item_meta_datasetArn,\n",
    "                                                          DataSource= {\n",
    "                                                              \"S3Config\" : {\n",
    "                                                                 \"Path\":item_meta_s3DataPath,\n",
    "                                                                 \"RoleArn\": role_arn\n",
    "                                                              } \n",
    "                                                          },\n",
    "                                                          TimestampFormat=TIMESTAMP_FORMAT\n",
    "                                                         )"
   ]
  },
  {
   "cell_type": "code",
   "execution_count": 36,
   "metadata": {},
   "outputs": [
    {
     "name": "stdout",
     "output_type": "stream",
     "text": [
      "arn:aws:forecast:us-east-2:057716757052:dataset-import-job/WalmartKaggleWithThreeDatasetsDS_ItemM35988/DSIMPORT_JOB_RELATED_WALMART_related35988\n"
     ]
    }
   ],
   "source": [
    "ds_itme_meta_import_job_arn=ds_import_job_response['DatasetImportJobArn']\n",
    "print(ds_itme_meta_import_job_arn)"
   ]
  },
  {
   "cell_type": "code",
   "execution_count": 37,
   "metadata": {},
   "outputs": [
    {
     "name": "stdout",
     "output_type": "stream",
     "text": [
      "Target:  CREATE_IN_PROGRESS\n",
      "Related:  CREATE_PENDING\n",
      "Item Metadata:  CREATE_PENDING\n",
      "Target:  CREATE_IN_PROGRESS\n",
      "Related:  CREATE_IN_PROGRESS\n",
      "Item Metadata:  CREATE_IN_PROGRESS\n",
      "Target:  CREATE_IN_PROGRESS\n",
      "Related:  CREATE_IN_PROGRESS\n",
      "Item Metadata:  CREATE_IN_PROGRESS\n",
      "Target:  CREATE_IN_PROGRESS\n",
      "Related:  CREATE_IN_PROGRESS\n",
      "Item Metadata:  CREATE_IN_PROGRESS\n",
      "Target:  ACTIVE\n",
      "Related:  CREATE_IN_PROGRESS\n",
      "Item Metadata:  CREATE_IN_PROGRESS\n",
      "Target:  ACTIVE\n",
      "Related:  CREATE_IN_PROGRESS\n",
      "Item Metadata:  CREATE_IN_PROGRESS\n",
      "Target:  ACTIVE\n",
      "Related:  CREATE_IN_PROGRESS\n",
      "Item Metadata:  CREATE_IN_PROGRESS\n",
      "Target:  ACTIVE\n",
      "Related:  CREATE_IN_PROGRESS\n",
      "Item Metadata:  CREATE_IN_PROGRESS\n",
      "Target:  ACTIVE\n",
      "Related:  CREATE_IN_PROGRESS\n",
      "Item Metadata:  CREATE_IN_PROGRESS\n",
      "Target:  ACTIVE\n",
      "Related:  CREATE_IN_PROGRESS\n",
      "Item Metadata:  CREATE_IN_PROGRESS\n",
      "Target:  ACTIVE\n",
      "Related:  CREATE_IN_PROGRESS\n",
      "Item Metadata:  CREATE_IN_PROGRESS\n",
      "Target:  ACTIVE\n",
      "Related:  CREATE_IN_PROGRESS\n",
      "Item Metadata:  CREATE_IN_PROGRESS\n",
      "Target:  ACTIVE\n",
      "Related:  ACTIVE\n",
      "Item Metadata:  ACTIVE\n",
      "CPU times: user 110 ms, sys: 8.64 ms, total: 119 ms\n",
      "Wall time: 6min 2s\n"
     ]
    }
   ],
   "source": [
    "%%time\n",
    "\n",
    "while True:\n",
    "    dataTargetImportStatus = forecast.describe_dataset_import_job(DatasetImportJobArn=ds_target_second_import_job_arn)['Status']\n",
    "    print(\"Target: \", dataTargetImportStatus)\n",
    "    dataRelatedImportStatus = forecast.describe_dataset_import_job(DatasetImportJobArn=ds_related_import_job_arn)['Status']\n",
    "    print(\"Related: \", dataRelatedImportStatus)\n",
    "    dataItemMetaImportStatus = forecast.describe_dataset_import_job(DatasetImportJobArn=ds_related_import_job_arn)['Status']\n",
    "    print(\"Item Metadata: \", dataItemMetaImportStatus)    \n",
    "    if dataTargetImportStatus != 'ACTIVE' and dataTargetImportStatus != 'CREATE_FAILED':\n",
    "        sleep(30)\n",
    "    elif dataRelatedImportStatus != 'ACTIVE' and dataRelatedImportStatus != 'CREATE_FAILED':\n",
    "        sleep(30)\n",
    "    elif dataItemMetaImportStatus != 'ACTIVE' and dataItemMetaImportStatus != 'CREATE_FAILED':\n",
    "        sleep(30)    \n",
    "    else:\n",
    "        break"
   ]
  },
  {
   "cell_type": "code",
   "execution_count": 43,
   "metadata": {},
   "outputs": [
    {
     "name": "stdout",
     "output_type": "stream",
     "text": [
      "Stored 'project' (str)\n",
      "Stored 'region' (str)\n",
      "Stored 'bucket_name' (str)\n",
      "Stored 'bucket_folder' (str)\n",
      "Stored 'role_arn' (str)\n",
      "Stored 'role_name' (str)\n",
      "Stored 'suffix' (str)\n",
      "Stored 'target_suffix' (str)\n",
      "Stored 'item_meta_suffix' (str)\n",
      "Stored 'related_suffix' (str)\n",
      "Stored 'item_meta_datasetGroupArn' (str)\n",
      "Stored 'target_second_datasetArn' (str)\n",
      "Stored 'related_datasetArn' (str)\n",
      "Stored 'item_meta_datasetArn' (str)\n",
      "Stored 'ds_target_second_import_job_arn' (str)\n",
      "Stored 'ds_related_import_job_arn' (str)\n",
      "Stored 'ds_itme_meta_import_job_arn' (str)\n"
     ]
    }
   ],
   "source": [
    "%store project\n",
    "%store region\n",
    "%store bucket_name\n",
    "%store bucket_folder\n",
    "%store role_arn\n",
    "%store role_name\n",
    "%store suffix\n",
    "%store target_suffix\n",
    "%store item_meta_suffix\n",
    "%store related_suffix\n",
    "\n",
    "%store item_meta_datasetGroupArn\n",
    "%store target_second_datasetArn\n",
    "%store related_datasetArn\n",
    "%store item_meta_datasetArn\n",
    "%store ds_target_second_import_job_arn\n",
    "%store ds_related_import_job_arn\n",
    "%store ds_itme_meta_import_job_arn\n",
    "\n",
    "\n"
   ]
  },
  {
   "cell_type": "code",
   "execution_count": null,
   "metadata": {},
   "outputs": [],
   "source": []
  },
  {
   "cell_type": "code",
   "execution_count": null,
   "metadata": {},
   "outputs": [],
   "source": []
  },
  {
   "cell_type": "code",
   "execution_count": null,
   "metadata": {},
   "outputs": [],
   "source": []
  },
  {
   "cell_type": "code",
   "execution_count": null,
   "metadata": {},
   "outputs": [],
   "source": []
  },
  {
   "cell_type": "code",
   "execution_count": null,
   "metadata": {},
   "outputs": [],
   "source": []
  },
  {
   "cell_type": "code",
   "execution_count": null,
   "metadata": {},
   "outputs": [],
   "source": []
  }
 ],
 "metadata": {
  "kernelspec": {
   "display_name": "conda_python3",
   "language": "python",
   "name": "conda_python3"
  },
  "language_info": {
   "codemirror_mode": {
    "name": "ipython",
    "version": 3
   },
   "file_extension": ".py",
   "mimetype": "text/x-python",
   "name": "python",
   "nbconvert_exporter": "python",
   "pygments_lexer": "ipython3",
   "version": "3.6.5"
  }
 },
 "nbformat": 4,
 "nbformat_minor": 4
}
