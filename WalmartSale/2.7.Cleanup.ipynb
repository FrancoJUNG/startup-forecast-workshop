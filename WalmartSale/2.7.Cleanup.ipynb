{
 "cells": [
  {
   "cell_type": "markdown",
   "metadata": {},
   "source": [
    "# Cleanup resources"
   ]
  },
  {
   "cell_type": "code",
   "execution_count": 1,
   "metadata": {},
   "outputs": [],
   "source": [
    "import boto3\n",
    "import time\n",
    "import os\n",
    "from time import sleep\n"
   ]
  },
  {
   "cell_type": "code",
   "execution_count": 2,
   "metadata": {},
   "outputs": [],
   "source": [
    "%store -r"
   ]
  },
  {
   "cell_type": "code",
   "execution_count": 3,
   "metadata": {},
   "outputs": [],
   "source": [
    "session = boto3.Session(region_name=region)\n",
    "forecast = session.client(service_name='forecast')"
   ]
  },
  {
   "cell_type": "markdown",
   "metadata": {},
   "source": [
    "## Forecast Exporter"
   ]
  },
  {
   "cell_type": "code",
   "execution_count": 4,
   "metadata": {},
   "outputs": [],
   "source": [
    "forecast.delete_forecast_export_job(\n",
    "    ForecastExportJobArn= ItemMetaForecastProphetExportJobArn\n",
    ")\n",
    "\n",
    "forecast.delete_forecast_export_job(\n",
    "    ForecastExportJobArn= ItemMetaForecastDeeparExportJobArn\n",
    ")\n",
    "time.sleep(60)"
   ]
  },
  {
   "cell_type": "markdown",
   "metadata": {},
   "source": [
    "## Forecast Forecasts"
   ]
  },
  {
   "cell_type": "code",
   "execution_count": 5,
   "metadata": {},
   "outputs": [],
   "source": [
    "# Prophet\n",
    "response = forecast.delete_forecast(\n",
    "    ForecastArn= item_meta_prophet_forecast_arn\n",
    ")\n",
    "# Deeparp\n",
    "response = forecast.delete_forecast(\n",
    "    ForecastArn= item_meta_deeparp_forecast_arn\n",
    ")\n",
    "time.sleep(60)"
   ]
  },
  {
   "cell_type": "markdown",
   "metadata": {},
   "source": [
    "## Forecast Predictor"
   ]
  },
  {
   "cell_type": "code",
   "execution_count": 6,
   "metadata": {},
   "outputs": [],
   "source": [
    "# Prophet\n",
    "response = forecast.delete_predictor(\n",
    "    PredictorArn= item_meta_prophet_predictor_arn\n",
    ")\n",
    "# Deeparp\n",
    "response = forecast.delete_predictor(\n",
    "    PredictorArn= item_meta_deepar_predictor_arn\n",
    ")\n",
    "time.sleep(90)"
   ]
  },
  {
   "cell_type": "markdown",
   "metadata": {},
   "source": [
    "## Forecast Dataset Import Job"
   ]
  },
  {
   "cell_type": "code",
   "execution_count": 9,
   "metadata": {},
   "outputs": [],
   "source": [
    "# On a target time series dataset\n",
    "response = forecast.delete_dataset_import_job(\n",
    "    DatasetImportJobArn= ds_target_second_import_job_arn\n",
    ")\n",
    "# # On a related time series dataset\n",
    "response = forecast.delete_dataset_import_job(\n",
    "    DatasetImportJobArn= ds_related_import_job_arn\n",
    ")\n",
    "\n",
    "# On a item meta time series dataset\n",
    "response = forecast.delete_dataset_import_job(\n",
    "    DatasetImportJobArn= ds_itme_meta_import_job_arn\n",
    ")\n",
    "\n",
    "time.sleep(60)"
   ]
  },
  {
   "cell_type": "markdown",
   "metadata": {},
   "source": [
    "## Forecast Dataset"
   ]
  },
  {
   "cell_type": "code",
   "execution_count": 10,
   "metadata": {},
   "outputs": [],
   "source": [
    "response = forecast.delete_dataset(\n",
    "    DatasetArn= target_second_datasetArn\n",
    ")\n",
    "response = forecast.delete_dataset(\n",
    "    DatasetArn= related_datasetArn\n",
    ")\n",
    "response = forecast.delete_dataset(\n",
    "    DatasetArn= item_meta_datasetArn\n",
    ")\n",
    "time.sleep(60)"
   ]
  },
  {
   "cell_type": "markdown",
   "metadata": {},
   "source": [
    "## Forecast Dataset Group"
   ]
  },
  {
   "cell_type": "code",
   "execution_count": 11,
   "metadata": {},
   "outputs": [],
   "source": [
    "response = forecast.delete_dataset_group(\n",
    "    DatasetGroupArn= item_meta_datasetGroupArn\n",
    ")\n",
    "time.sleep(10)"
   ]
  },
  {
   "cell_type": "markdown",
   "metadata": {},
   "source": [
    "## S3 Bucket\n",
    "**IMPORTANT: all folders are deleted** \n",
    "If needed, please do this command after uncommenting the cell below"
   ]
  },
  {
   "cell_type": "code",
   "execution_count": 12,
   "metadata": {},
   "outputs": [],
   "source": [
    "# import boto3\n",
    "# s3 = boto3.resource('s3')\n",
    "# bucket = s3.Bucket(bucket_name)\n",
    "# for key in bucket.objects.all():\n",
    "#     key.delete()\n",
    "# bucket.delete()"
   ]
  },
  {
   "cell_type": "markdown",
   "metadata": {},
   "source": [
    "## IAM Role"
   ]
  },
  {
   "cell_type": "code",
   "execution_count": 13,
   "metadata": {},
   "outputs": [
    {
     "data": {
      "text/plain": [
       "{'ResponseMetadata': {'RequestId': 'a6f4fb00-e45e-4ba9-a620-8d77f3ac59d4',\n",
       "  'HTTPStatusCode': 200,\n",
       "  'HTTPHeaders': {'x-amzn-requestid': 'a6f4fb00-e45e-4ba9-a620-8d77f3ac59d4',\n",
       "   'content-type': 'text/xml',\n",
       "   'content-length': '200',\n",
       "   'date': 'Sun, 05 Apr 2020 08:09:27 GMT'},\n",
       "  'RetryAttempts': 0}}"
      ]
     },
     "execution_count": 13,
     "metadata": {},
     "output_type": "execute_result"
    }
   ],
   "source": [
    "# IAM policies should also be removed\n",
    "iam = boto3.client(\"iam\")\n",
    "iam.detach_role_policy(PolicyArn=\"arn:aws:iam::aws:policy/AmazonForecastFullAccess\", RoleName=role_name)\n",
    "iam.detach_role_policy(PolicyArn=\"arn:aws:iam::aws:policy/AmazonS3FullAccess\",RoleName=role_name)\n",
    "\n",
    "iam.delete_role(RoleName=role_name)"
   ]
  },
  {
   "cell_type": "code",
   "execution_count": null,
   "metadata": {},
   "outputs": [],
   "source": []
  },
  {
   "cell_type": "code",
   "execution_count": null,
   "metadata": {},
   "outputs": [],
   "source": []
  }
 ],
 "metadata": {
  "kernelspec": {
   "display_name": "conda_python3",
   "language": "python",
   "name": "conda_python3"
  },
  "language_info": {
   "codemirror_mode": {
    "name": "ipython",
    "version": 3
   },
   "file_extension": ".py",
   "mimetype": "text/x-python",
   "name": "python",
   "nbconvert_exporter": "python",
   "pygments_lexer": "ipython3",
   "version": "3.6.5"
  }
 },
 "nbformat": 4,
 "nbformat_minor": 4
}
