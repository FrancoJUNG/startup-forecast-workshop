{
 "cells": [
  {
   "cell_type": "markdown",
   "metadata": {},
   "source": [
    "# [Module 3] Prophet 과 DeepAP+ Predictor 생성 (Create predcitors of Prophet and DeepAR+)\n",
    "- 여기서는 두개의 Predictos 인 Prophet 과 DeepAR+를 생성 (포케스팅 모델 학습) 을 하고, 실제 Predictor의 성능 지표를 통해서 얼마나 성능이 나왔는지를 학인 할 수 있습니다.\n",
    "* 이 과정은 약 40분 정도 걸립니다. **About 40 mins may be elapsed**"
   ]
  },
  {
   "cell_type": "code",
   "execution_count": 1,
   "metadata": {},
   "outputs": [],
   "source": [
    "import boto3\n",
    "from time import sleep\n",
    "import pandas as pd\n",
    "import json\n",
    "import time\n",
    "import pprint\n",
    "import numpy as np"
   ]
  },
  {
   "cell_type": "code",
   "execution_count": 2,
   "metadata": {},
   "outputs": [],
   "source": [
    "# Recover variables \n",
    "%store -r"
   ]
  },
  {
   "cell_type": "code",
   "execution_count": 3,
   "metadata": {},
   "outputs": [],
   "source": [
    "session = boto3.Session(region_name=region)\n",
    "forecast = session.client(service_name='forecast')"
   ]
  },
  {
   "cell_type": "markdown",
   "metadata": {},
   "source": [
    "## Hyperparameters\n",
    "- forecastHorizon 는 31 개의 미래 데이타 포인트를 예측 합니다. ForecastFrequency 가 Day 기준이므로 미래의 31일을 예측 합니다.\n",
    "- NumberOfBacktestWindows 는 백테스트를 의미합니다. 학습 데이타의 맨 마지막에서 2번 백테스트 합니다.\n",
    "![BackTest](img/Fig3.1.BackTest.png)"
   ]
  },
  {
   "cell_type": "code",
   "execution_count": 5,
   "metadata": {},
   "outputs": [],
   "source": [
    "forecastHorizon = 31 # the number of forecasting\n",
    "NumberOfBacktestWindows = 2 # the number of Backtests\n",
    "BackTestWindowOffset = 31 # the point from the end of the dataset where the data is split for model training and testing \n",
    "ForecastFrequency = \"D\""
   ]
  },
  {
   "cell_type": "markdown",
   "metadata": {},
   "source": [
    "Detailed parameter info is [here](https://docs.aws.amazon.com/forecast/latest/dg/metrics.html)"
   ]
  },
  {
   "cell_type": "markdown",
   "metadata": {},
   "source": [
    "#### Predictor algorithms\n",
    "- 아래 두개의 알고리즘을 사용 합니다."
   ]
  },
  {
   "cell_type": "code",
   "execution_count": 6,
   "metadata": {},
   "outputs": [],
   "source": [
    "prophet_algorithmArn = 'arn:aws:forecast:::algorithm/Prophet'\n",
    "deepAR_Plus_algorithmArn = 'arn:aws:forecast:::algorithm/Deep_AR_Plus'"
   ]
  },
  {
   "cell_type": "markdown",
   "metadata": {},
   "source": [
    "### Prophet\n",
    "- Prophet을 학습하기 위해서 필요한 설정 파일들을 기술 합니다. "
   ]
  },
  {
   "cell_type": "code",
   "execution_count": 7,
   "metadata": {},
   "outputs": [],
   "source": [
    "# Prophet Specifics\n",
    "prophet_predictorName= project+'_prophet_algo_1' + target_suffix + suffix"
   ]
  },
  {
   "cell_type": "code",
   "execution_count": 8,
   "metadata": {},
   "outputs": [],
   "source": [
    "# Build Prophet:\n",
    "prophet_create_predictor_response=forecast.create_predictor(\n",
    "      PredictorName=prophet_predictorName, \n",
    "      AlgorithmArn=prophet_algorithmArn,\n",
    "      ForecastHorizon=forecastHorizon,\n",
    "      PerformAutoML= False,\n",
    "      PerformHPO=False,\n",
    "      EvaluationParameters= {\"NumberOfBacktestWindows\": NumberOfBacktestWindows, \n",
    "                             \"BackTestWindowOffset\": BackTestWindowOffset}, \n",
    "      InputDataConfig= {\"DatasetGroupArn\": target_datasetGroupArn, \n",
    "                        \"SupplementaryFeatures\": [ \n",
    "                         { \n",
    "                            \"Name\": \"holiday\",\n",
    "                            \"Value\": \"US\"\n",
    "                         }\n",
    "                      ]},\n",
    "      FeaturizationConfig= {\"ForecastFrequency\": ForecastFrequency, \n",
    "                            \"ForecastDimensions\":\n",
    "                            [\"store\"],\n",
    "                            \"Featurizations\": \n",
    "                            [\n",
    "                              {\"AttributeName\": \"target_value\", \n",
    "                               \"FeaturizationPipeline\": \n",
    "                                [\n",
    "                                  {\"FeaturizationMethodName\": \"filling\", \n",
    "                                   \"FeaturizationMethodParameters\": \n",
    "                                    {\"frontfill\": \"none\", \n",
    "                                     \"middlefill\": \"zero\", \n",
    "                                     \"backfill\": \"zero\"}\n",
    "                                  }\n",
    "                                ]\n",
    "                              }\n",
    "                            ]\n",
    "                           }\n",
    "                                                 )\n",
    "\n",
    "\n"
   ]
  },
  {
   "cell_type": "markdown",
   "metadata": {},
   "source": [
    "### DeepAR+"
   ]
  },
  {
   "cell_type": "code",
   "execution_count": 9,
   "metadata": {},
   "outputs": [],
   "source": [
    "# DeepAR+ Specifics\n",
    "deeparp_predictorName= project+'_deeparp_algo_1' + suffix"
   ]
  },
  {
   "cell_type": "code",
   "execution_count": 10,
   "metadata": {},
   "outputs": [],
   "source": [
    "# Build DeepAR+:\n",
    "deeparp_create_predictor_response=forecast.create_predictor(\n",
    "      PredictorName=deeparp_predictorName, \n",
    "      AlgorithmArn=deepAR_Plus_algorithmArn,\n",
    "      ForecastHorizon=forecastHorizon,\n",
    "      PerformAutoML= False,\n",
    "      PerformHPO=False,\n",
    "      EvaluationParameters= {\"NumberOfBacktestWindows\": NumberOfBacktestWindows, \n",
    "                             \"BackTestWindowOffset\": BackTestWindowOffset}, \n",
    "      InputDataConfig= {\"DatasetGroupArn\": target_datasetGroupArn, \"SupplementaryFeatures\": [ \n",
    "                         { \n",
    "                            \"Name\": \"holiday\",\n",
    "                            \"Value\": \"US\"\n",
    "                         }\n",
    "                      ]},\n",
    "      FeaturizationConfig= {\"ForecastFrequency\": ForecastFrequency, \n",
    "                            \"ForecastDimensions\":\n",
    "                            [\"store\"],\n",
    "                            \n",
    "                            \"Featurizations\": \n",
    "                            [\n",
    "                              {\"AttributeName\": \"target_value\", \n",
    "                               \"FeaturizationPipeline\": \n",
    "                                [\n",
    "                                  {\"FeaturizationMethodName\": \"filling\", \n",
    "                                   \"FeaturizationMethodParameters\": \n",
    "                                    {\"frontfill\": \"none\", \n",
    "                                     \"middlefill\": \"zero\", \n",
    "                                     \"backfill\": \"zero\"}\n",
    "                                  }\n",
    "                                ]\n",
    "                              }\n",
    "                            ]\n",
    "                           }\n",
    "                                                 )\n",
    "\n",
    "\n",
    "\n"
   ]
  },
  {
   "cell_type": "markdown",
   "metadata": {},
   "source": [
    "## Check if the predictors are active\n",
    "- Predictor가 실제로 생성되고 있는 상태를 확인 합니다."
   ]
  },
  {
   "cell_type": "code",
   "execution_count": 11,
   "metadata": {},
   "outputs": [],
   "source": [
    "# forecast.list_predictors(Filters=[\n",
    "#     {\"Condition\": \"IS\",\n",
    "#      \"Key\": \"DatasetGroupArn\", \n",
    "#      \"Value\": datasetGroupArn}\n",
    "# ])"
   ]
  },
  {
   "cell_type": "code",
   "execution_count": 12,
   "metadata": {},
   "outputs": [],
   "source": [
    "#prophet_predictor_arn = 'arn:aws:forecast:us-east-2:057716757052:predictor/WalmartKaggleGonsoo_prophet_algo_174655'\n",
    "target_prophet_predictorArn = prophet_create_predictor_response[\"PredictorArn\"]"
   ]
  },
  {
   "cell_type": "code",
   "execution_count": 13,
   "metadata": {},
   "outputs": [],
   "source": [
    "target_deepar_predictorArn = deeparp_create_predictor_response[\"PredictorArn\"]"
   ]
  },
  {
   "cell_type": "code",
   "execution_count": 14,
   "metadata": {},
   "outputs": [
    {
     "name": "stdout",
     "output_type": "stream",
     "text": [
      "Prophet:  CREATE_PENDING\n",
      "DeepARP:  CREATE_PENDING\n",
      "Prophet:  CREATE_IN_PROGRESS\n",
      "DeepARP:  CREATE_IN_PROGRESS\n",
      "Prophet:  CREATE_IN_PROGRESS\n",
      "DeepARP:  CREATE_IN_PROGRESS\n",
      "Prophet:  CREATE_IN_PROGRESS\n",
      "DeepARP:  CREATE_IN_PROGRESS\n",
      "Prophet:  CREATE_IN_PROGRESS\n",
      "DeepARP:  CREATE_IN_PROGRESS\n",
      "Prophet:  CREATE_IN_PROGRESS\n",
      "DeepARP:  CREATE_IN_PROGRESS\n",
      "Prophet:  CREATE_IN_PROGRESS\n",
      "DeepARP:  CREATE_IN_PROGRESS\n",
      "Prophet:  CREATE_IN_PROGRESS\n",
      "DeepARP:  CREATE_IN_PROGRESS\n",
      "Prophet:  CREATE_IN_PROGRESS\n",
      "DeepARP:  CREATE_IN_PROGRESS\n",
      "Prophet:  CREATE_IN_PROGRESS\n",
      "DeepARP:  CREATE_IN_PROGRESS\n",
      "Prophet:  CREATE_IN_PROGRESS\n",
      "DeepARP:  CREATE_IN_PROGRESS\n",
      "Prophet:  CREATE_IN_PROGRESS\n",
      "DeepARP:  CREATE_IN_PROGRESS\n",
      "Prophet:  CREATE_IN_PROGRESS\n",
      "DeepARP:  CREATE_IN_PROGRESS\n",
      "Prophet:  CREATE_IN_PROGRESS\n",
      "DeepARP:  CREATE_IN_PROGRESS\n",
      "Prophet:  CREATE_IN_PROGRESS\n",
      "DeepARP:  CREATE_IN_PROGRESS\n",
      "Prophet:  CREATE_IN_PROGRESS\n",
      "DeepARP:  CREATE_IN_PROGRESS\n",
      "Prophet:  CREATE_IN_PROGRESS\n",
      "DeepARP:  CREATE_IN_PROGRESS\n",
      "Prophet:  CREATE_IN_PROGRESS\n",
      "DeepARP:  CREATE_IN_PROGRESS\n",
      "Prophet:  CREATE_IN_PROGRESS\n",
      "DeepARP:  CREATE_IN_PROGRESS\n",
      "Prophet:  CREATE_IN_PROGRESS\n",
      "DeepARP:  CREATE_IN_PROGRESS\n",
      "Prophet:  CREATE_IN_PROGRESS\n",
      "DeepARP:  CREATE_IN_PROGRESS\n",
      "Prophet:  CREATE_IN_PROGRESS\n",
      "DeepARP:  CREATE_IN_PROGRESS\n",
      "Prophet:  CREATE_IN_PROGRESS\n",
      "DeepARP:  CREATE_IN_PROGRESS\n",
      "Prophet:  CREATE_IN_PROGRESS\n",
      "DeepARP:  CREATE_IN_PROGRESS\n",
      "Prophet:  CREATE_IN_PROGRESS\n",
      "DeepARP:  CREATE_IN_PROGRESS\n",
      "Prophet:  CREATE_IN_PROGRESS\n",
      "DeepARP:  CREATE_IN_PROGRESS\n",
      "Prophet:  CREATE_IN_PROGRESS\n",
      "DeepARP:  CREATE_IN_PROGRESS\n",
      "Prophet:  CREATE_IN_PROGRESS\n",
      "DeepARP:  CREATE_IN_PROGRESS\n",
      "Prophet:  CREATE_IN_PROGRESS\n",
      "DeepARP:  CREATE_IN_PROGRESS\n",
      "Prophet:  CREATE_IN_PROGRESS\n",
      "DeepARP:  CREATE_IN_PROGRESS\n",
      "Prophet:  CREATE_IN_PROGRESS\n",
      "DeepARP:  CREATE_IN_PROGRESS\n",
      "Prophet:  CREATE_IN_PROGRESS\n",
      "DeepARP:  CREATE_IN_PROGRESS\n",
      "Prophet:  CREATE_IN_PROGRESS\n",
      "DeepARP:  CREATE_IN_PROGRESS\n",
      "Prophet:  ACTIVE\n",
      "DeepARP:  CREATE_IN_PROGRESS\n",
      "Prophet:  ACTIVE\n",
      "DeepARP:  CREATE_IN_PROGRESS\n",
      "Prophet:  ACTIVE\n",
      "DeepARP:  CREATE_IN_PROGRESS\n",
      "Prophet:  ACTIVE\n",
      "DeepARP:  CREATE_IN_PROGRESS\n",
      "Prophet:  ACTIVE\n",
      "DeepARP:  CREATE_IN_PROGRESS\n",
      "Prophet:  ACTIVE\n",
      "DeepARP:  CREATE_IN_PROGRESS\n",
      "Prophet:  ACTIVE\n",
      "DeepARP:  CREATE_IN_PROGRESS\n",
      "Prophet:  ACTIVE\n",
      "DeepARP:  CREATE_IN_PROGRESS\n",
      "Prophet:  ACTIVE\n",
      "DeepARP:  CREATE_IN_PROGRESS\n",
      "Prophet:  ACTIVE\n",
      "DeepARP:  CREATE_IN_PROGRESS\n",
      "Prophet:  ACTIVE\n",
      "DeepARP:  CREATE_IN_PROGRESS\n",
      "Prophet:  ACTIVE\n",
      "DeepARP:  CREATE_IN_PROGRESS\n",
      "Prophet:  ACTIVE\n",
      "DeepARP:  CREATE_IN_PROGRESS\n",
      "Prophet:  ACTIVE\n",
      "DeepARP:  CREATE_IN_PROGRESS\n",
      "Prophet:  ACTIVE\n",
      "DeepARP:  CREATE_IN_PROGRESS\n",
      "Prophet:  ACTIVE\n",
      "DeepARP:  CREATE_IN_PROGRESS\n",
      "Prophet:  ACTIVE\n",
      "DeepARP:  CREATE_IN_PROGRESS\n",
      "Prophet:  ACTIVE\n",
      "DeepARP:  CREATE_IN_PROGRESS\n",
      "Prophet:  ACTIVE\n",
      "DeepARP:  CREATE_IN_PROGRESS\n",
      "Prophet:  ACTIVE\n",
      "DeepARP:  CREATE_IN_PROGRESS\n",
      "Prophet:  ACTIVE\n",
      "DeepARP:  CREATE_IN_PROGRESS\n",
      "Prophet:  ACTIVE\n",
      "DeepARP:  CREATE_IN_PROGRESS\n",
      "Prophet:  ACTIVE\n",
      "DeepARP:  CREATE_IN_PROGRESS\n",
      "Prophet:  ACTIVE\n",
      "DeepARP:  CREATE_IN_PROGRESS\n",
      "Prophet:  ACTIVE\n",
      "DeepARP:  CREATE_IN_PROGRESS\n",
      "Prophet:  ACTIVE\n",
      "DeepARP:  CREATE_IN_PROGRESS\n",
      "Prophet:  ACTIVE\n",
      "DeepARP:  CREATE_IN_PROGRESS\n",
      "Prophet:  ACTIVE\n",
      "DeepARP:  CREATE_IN_PROGRESS\n",
      "Prophet:  ACTIVE\n",
      "DeepARP:  CREATE_IN_PROGRESS\n",
      "Prophet:  ACTIVE\n",
      "DeepARP:  CREATE_IN_PROGRESS\n",
      "Prophet:  ACTIVE\n",
      "DeepARP:  CREATE_IN_PROGRESS\n",
      "Prophet:  ACTIVE\n",
      "DeepARP:  CREATE_IN_PROGRESS\n",
      "Prophet:  ACTIVE\n",
      "DeepARP:  ACTIVE\n",
      "CPU times: user 631 ms, sys: 35.3 ms, total: 666 ms\n",
      "Wall time: 1h 5min 11s\n"
     ]
    }
   ],
   "source": [
    "%%time\n",
    "# Check the Prophet status\n",
    "\n",
    "while True:\n",
    "    createProphetPredictorStatus = forecast.describe_predictor(PredictorArn= target_prophet_predictorArn)['Status']\n",
    "    createDeeparpPredictorStatus = forecast.describe_predictor(PredictorArn= target_deepar_predictorArn)['Status']    \n",
    "    print(\"Prophet: \", createProphetPredictorStatus)\n",
    "    print(\"DeepARP: \", createDeeparpPredictorStatus)          \n",
    "    if createProphetPredictorStatus != 'ACTIVE' and createProphetPredictorStatus != 'CREATE_FAILED':\n",
    "        sleep(60)\n",
    "    elif createDeeparpPredictorStatus != 'ACTIVE' and createDeeparpPredictorStatus != 'CREATE_FAILED':\n",
    "        sleep(60)\n",
    "    else:\n",
    "        break"
   ]
  },
  {
   "cell_type": "markdown",
   "metadata": {},
   "source": [
    "## Predictor evaluation\n",
    "-아래 화면은 Forecast Console --> Dataset Group 선택 --> Predictors 선택을 하시면 조금 더 쉽게 볼 수 있습니다. \n",
    "![PredictorMetric](img/Fig.3.2.PredictorMetric.png)"
   ]
  },
  {
   "cell_type": "markdown",
   "metadata": {},
   "source": [
    "#### Prophet"
   ]
  },
  {
   "cell_type": "code",
   "execution_count": 15,
   "metadata": {},
   "outputs": [
    {
     "name": "stdout",
     "output_type": "stream",
     "text": [
      "{'PredictorEvaluationResults': [{'AlgorithmArn': 'arn:aws:forecast:::algorithm/Prophet',\n",
      "                                 'TestWindows': [{'EvaluationType': 'SUMMARY',\n",
      "                                                  'Metrics': {'RMSE': 8.461402438062706,\n",
      "                                                              'WeightedQuantileLosses': [{'LossValue': 0.050938286884664494,\n",
      "                                                                                          'Quantile': 0.9},\n",
      "                                                                                         {'LossValue': 0.10924641064118029,\n",
      "                                                                                          'Quantile': 0.5},\n",
      "                                                                                         {'LossValue': 0.046774682654280336,\n",
      "                                                                                          'Quantile': 0.1}]}},\n",
      "                                                 {'EvaluationType': 'COMPUTED',\n",
      "                                                  'ItemCount': 500,\n",
      "                                                  'Metrics': {'RMSE': 8.072179708426296,\n",
      "                                                              'WeightedQuantileLosses': [{'LossValue': 0.04879847759755552,\n",
      "                                                                                          'Quantile': 0.9},\n",
      "                                                                                         {'LossValue': 0.10783010520023173,\n",
      "                                                                                          'Quantile': 0.5},\n",
      "                                                                                         {'LossValue': 0.04678547627786754,\n",
      "                                                                                          'Quantile': 0.1}]},\n",
      "                                                  'TestWindowEnd': datetime.datetime(2017, 10, 31, 0, 0, tzinfo=tzlocal()),\n",
      "                                                  'TestWindowStart': datetime.datetime(2017, 9, 30, 0, 0, tzinfo=tzlocal())},\n",
      "                                                 {'EvaluationType': 'COMPUTED',\n",
      "                                                  'ItemCount': 500,\n",
      "                                                  'Metrics': {'RMSE': 8.850625167699112,\n",
      "                                                              'WeightedQuantileLosses': [{'LossValue': 0.05307809617177345,\n",
      "                                                                                          'Quantile': 0.9},\n",
      "                                                                                         {'LossValue': 0.11066271608212863,\n",
      "                                                                                          'Quantile': 0.5},\n",
      "                                                                                         {'LossValue': 0.04676388903069311,\n",
      "                                                                                          'Quantile': 0.1}]},\n",
      "                                                  'TestWindowEnd': datetime.datetime(2017, 12, 1, 0, 0, tzinfo=tzlocal()),\n",
      "                                                  'TestWindowStart': datetime.datetime(2017, 10, 31, 0, 0, tzinfo=tzlocal())}]}],\n",
      " 'ResponseMetadata': {'HTTPHeaders': {'connection': 'keep-alive',\n",
      "                                      'content-length': '974',\n",
      "                                      'content-type': 'application/x-amz-json-1.1',\n",
      "                                      'date': 'Thu, 02 Jul 2020 06:38:56 GMT',\n",
      "                                      'x-amzn-requestid': '63d87dad-412e-4346-bcda-5f90692ba80f'},\n",
      "                      'HTTPStatusCode': 200,\n",
      "                      'RequestId': '63d87dad-412e-4346-bcda-5f90692ba80f',\n",
      "                      'RetryAttempts': 0}}\n"
     ]
    }
   ],
   "source": [
    "# Prophet Metrics\n",
    "# prophet_arn = prophet_create_predictor_response['PredictorArn']\n",
    "prophet_metrics = forecast.get_accuracy_metrics(PredictorArn=target_prophet_predictorArn)\n",
    "pp = pprint.PrettyPrinter()\n",
    "pp.pprint(prophet_metrics)"
   ]
  },
  {
   "cell_type": "markdown",
   "metadata": {},
   "source": [
    "#### DeepAR+"
   ]
  },
  {
   "cell_type": "code",
   "execution_count": 16,
   "metadata": {},
   "outputs": [
    {
     "name": "stdout",
     "output_type": "stream",
     "text": [
      "{'PredictorEvaluationResults': [{'AlgorithmArn': 'arn:aws:forecast:::algorithm/Deep_AR_Plus',\n",
      "                                 'TestWindows': [{'EvaluationType': 'SUMMARY',\n",
      "                                                  'Metrics': {'RMSE': 9.04280455503411,\n",
      "                                                              'WeightedQuantileLosses': [{'LossValue': 0.05381120787410435,\n",
      "                                                                                          'Quantile': 0.9},\n",
      "                                                                                         {'LossValue': 0.11573663899079217,\n",
      "                                                                                          'Quantile': 0.5},\n",
      "                                                                                         {'LossValue': 0.04958166414848687,\n",
      "                                                                                          'Quantile': 0.1}]}},\n",
      "                                                 {'EvaluationType': 'COMPUTED',\n",
      "                                                  'ItemCount': 500,\n",
      "                                                  'Metrics': {'RMSE': 8.021596275826827,\n",
      "                                                              'WeightedQuantileLosses': [{'LossValue': 0.04929783777444164,\n",
      "                                                                                          'Quantile': 0.9},\n",
      "                                                                                         {'LossValue': 0.10736649700038721,\n",
      "                                                                                          'Quantile': 0.5},\n",
      "                                                                                         {'LossValue': 0.04579945177497948,\n",
      "                                                                                          'Quantile': 0.1}]},\n",
      "                                                  'TestWindowEnd': datetime.datetime(2017, 10, 31, 0, 0, tzinfo=tzlocal()),\n",
      "                                                  'TestWindowStart': datetime.datetime(2017, 9, 30, 0, 0, tzinfo=tzlocal())},\n",
      "                                                 {'EvaluationType': 'COMPUTED',\n",
      "                                                  'ItemCount': 500,\n",
      "                                                  'Metrics': {'RMSE': 10.064012834241392,\n",
      "                                                              'WeightedQuantileLosses': [{'LossValue': 0.05832457797376705,\n",
      "                                                                                          'Quantile': 0.9},\n",
      "                                                                                         {'LossValue': 0.1241067809811972,\n",
      "                                                                                          'Quantile': 0.5},\n",
      "                                                                                         {'LossValue': 0.053363876521994195,\n",
      "                                                                                          'Quantile': 0.1}]},\n",
      "                                                  'TestWindowEnd': datetime.datetime(2017, 12, 1, 0, 0, tzinfo=tzlocal()),\n",
      "                                                  'TestWindowStart': datetime.datetime(2017, 10, 31, 0, 0, tzinfo=tzlocal())}]}],\n",
      " 'ResponseMetadata': {'HTTPHeaders': {'connection': 'keep-alive',\n",
      "                                      'content-length': '977',\n",
      "                                      'content-type': 'application/x-amz-json-1.1',\n",
      "                                      'date': 'Thu, 02 Jul 2020 06:38:56 GMT',\n",
      "                                      'x-amzn-requestid': 'f1288a29-b811-46a6-9a91-ccfa7586f936'},\n",
      "                      'HTTPStatusCode': 200,\n",
      "                      'RequestId': 'f1288a29-b811-46a6-9a91-ccfa7586f936',\n",
      "                      'RetryAttempts': 0}}\n"
     ]
    }
   ],
   "source": [
    "# DeepAR+ Metrics\n",
    "# deepar_predictor_arn = deeparp_create_predictor_response['PredictorArn']\n",
    "deeparp_metrics = forecast.get_accuracy_metrics(PredictorArn=target_deepar_predictorArn)\n",
    "pp = pprint.PrettyPrinter()\n",
    "pp.pprint(deeparp_metrics)"
   ]
  },
  {
   "cell_type": "code",
   "execution_count": 17,
   "metadata": {},
   "outputs": [
    {
     "name": "stdout",
     "output_type": "stream",
     "text": [
      "Stored 'target_prophet_predictorArn' (str)\n",
      "Stored 'target_deepar_predictorArn' (str)\n"
     ]
    }
   ],
   "source": [
    "%store target_prophet_predictorArn\n",
    "%store target_deepar_predictorArn"
   ]
  },
  {
   "cell_type": "code",
   "execution_count": null,
   "metadata": {},
   "outputs": [],
   "source": []
  },
  {
   "cell_type": "code",
   "execution_count": null,
   "metadata": {},
   "outputs": [],
   "source": []
  },
  {
   "cell_type": "code",
   "execution_count": null,
   "metadata": {},
   "outputs": [],
   "source": []
  }
 ],
 "metadata": {
  "kernelspec": {
   "display_name": "conda_python3",
   "language": "python",
   "name": "conda_python3"
  },
  "language_info": {
   "codemirror_mode": {
    "name": "ipython",
    "version": 3
   },
   "file_extension": ".py",
   "mimetype": "text/x-python",
   "name": "python",
   "nbconvert_exporter": "python",
   "pygments_lexer": "ipython3",
   "version": "3.6.5"
  }
 },
 "nbformat": 4,
 "nbformat_minor": 4
}
