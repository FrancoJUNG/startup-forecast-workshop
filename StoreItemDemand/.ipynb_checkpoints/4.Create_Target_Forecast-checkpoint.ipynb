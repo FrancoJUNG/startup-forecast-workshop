{
 "cells": [
  {
   "cell_type": "markdown",
   "metadata": {},
   "source": [
    "# [Module 4] Prophet 및 DeepAR+ Forecast 생성 (Create a Target Forecast)\n",
    "- 이전 모듈에서 생성한 Predictor를 가지고 Prophet 및 DeepAR+ Forecast 생성을 합니다. Foreast의 의미는 실질적으로 전체 학습을 다시하고 서비스를 할 수 있는 준비를 하는 과정 입니다. Forecast의 생성 이후에 실제 미래의 예측(Inference)을 일괄적으로 하여 S3에 저장을 합니다.\n",
    "\n",
    "* **About 50 mins may be elapsed**"
   ]
  },
  {
   "cell_type": "code",
   "execution_count": 1,
   "metadata": {},
   "outputs": [],
   "source": [
    "import boto3\n",
    "from time import sleep\n",
    "import pandas as pd\n",
    "import json\n",
    "import time\n",
    "import pprint\n",
    "import numpy as np"
   ]
  },
  {
   "cell_type": "code",
   "execution_count": 2,
   "metadata": {},
   "outputs": [],
   "source": [
    "# Recover variables stored by other notebooks\n",
    "%store -r"
   ]
  },
  {
   "cell_type": "code",
   "execution_count": 3,
   "metadata": {},
   "outputs": [],
   "source": [
    "session = boto3.Session(region_name=region)\n",
    "forecast = session.client(service_name='forecast')"
   ]
  },
  {
   "cell_type": "markdown",
   "metadata": {},
   "source": [
    "## Create Prophet and DeepAR+ Forecast"
   ]
  },
  {
   "cell_type": "code",
   "execution_count": 4,
   "metadata": {},
   "outputs": [],
   "source": [
    "# Prophet\n",
    "prophet_forecastName = project+'_prophet_algo_forecast' + suffix\n",
    "prophet_create_forecast_response=forecast.create_forecast(\n",
    "    ForecastName=prophet_forecastName,\n",
    "    PredictorArn=prophet_predictorArn)\n",
    "prophet_forecast_arn = prophet_create_forecast_response['ForecastArn']"
   ]
  },
  {
   "cell_type": "code",
   "execution_count": 5,
   "metadata": {},
   "outputs": [
    {
     "data": {
      "text/plain": [
       "{'ForecastArn': 'arn:aws:forecast:ap-northeast-2:870180618679:forecast/StoreItemDemand_prophet_algo_forecast04627',\n",
       " 'ForecastName': 'StoreItemDemand_prophet_algo_forecast04627',\n",
       " 'ForecastTypes': ['0.1', '0.5', '0.9'],\n",
       " 'PredictorArn': 'arn:aws:forecast:ap-northeast-2:870180618679:predictor/StoreItemDemand_prophet_algo_1_target04627',\n",
       " 'DatasetGroupArn': 'arn:aws:forecast:ap-northeast-2:870180618679:dataset-group/StoreItemDemandDSG04627',\n",
       " 'Status': 'CREATE_PENDING',\n",
       " 'CreationTime': datetime.datetime(2020, 7, 12, 14, 42, 8, 684000, tzinfo=tzlocal()),\n",
       " 'LastModificationTime': datetime.datetime(2020, 7, 12, 14, 42, 8, 684000, tzinfo=tzlocal()),\n",
       " 'ResponseMetadata': {'RequestId': '19203b1f-1581-43be-bcb1-f8dba34080d5',\n",
       "  'HTTPStatusCode': 200,\n",
       "  'HTTPHeaders': {'content-type': 'application/x-amz-json-1.1',\n",
       "   'date': 'Sun, 12 Jul 2020 14:42:09 GMT',\n",
       "   'x-amzn-requestid': '19203b1f-1581-43be-bcb1-f8dba34080d5',\n",
       "   'content-length': '526',\n",
       "   'connection': 'keep-alive'},\n",
       "  'RetryAttempts': 0}}"
      ]
     },
     "execution_count": 5,
     "metadata": {},
     "output_type": "execute_result"
    }
   ],
   "source": [
    "forecast.describe_forecast(ForecastArn = prophet_forecast_arn)"
   ]
  },
  {
   "cell_type": "code",
   "execution_count": 6,
   "metadata": {},
   "outputs": [],
   "source": [
    "# DeepAR+\n",
    "deeparp_forecastName = project+'_deeparp_algo_forecast' +  suffix\n",
    "deeparp_create_forecast_response=forecast.create_forecast(\n",
    "    ForecastName=deeparp_forecastName,\n",
    "    PredictorArn=deepar_predictorArn)\n",
    "deeparp_forecast_arn = deeparp_create_forecast_response['ForecastArn']"
   ]
  },
  {
   "cell_type": "code",
   "execution_count": 7,
   "metadata": {},
   "outputs": [
    {
     "data": {
      "text/plain": [
       "{'ForecastArn': 'arn:aws:forecast:ap-northeast-2:870180618679:forecast/StoreItemDemand_deeparp_algo_forecast04627',\n",
       " 'ForecastName': 'StoreItemDemand_deeparp_algo_forecast04627',\n",
       " 'ForecastTypes': ['0.1', '0.5', '0.9'],\n",
       " 'PredictorArn': 'arn:aws:forecast:ap-northeast-2:870180618679:predictor/StoreItemDemand_deeparp_algo_104627',\n",
       " 'DatasetGroupArn': 'arn:aws:forecast:ap-northeast-2:870180618679:dataset-group/StoreItemDemandDSG04627',\n",
       " 'Status': 'CREATE_PENDING',\n",
       " 'CreationTime': datetime.datetime(2020, 7, 12, 14, 42, 11, 369000, tzinfo=tzlocal()),\n",
       " 'LastModificationTime': datetime.datetime(2020, 7, 12, 14, 42, 11, 369000, tzinfo=tzlocal()),\n",
       " 'ResponseMetadata': {'RequestId': '51d0cfc1-e59c-47df-b917-63f029ac61b6',\n",
       "  'HTTPStatusCode': 200,\n",
       "  'HTTPHeaders': {'content-type': 'application/x-amz-json-1.1',\n",
       "   'date': 'Sun, 12 Jul 2020 14:42:12 GMT',\n",
       "   'x-amzn-requestid': '51d0cfc1-e59c-47df-b917-63f029ac61b6',\n",
       "   'content-length': '519',\n",
       "   'connection': 'keep-alive'},\n",
       "  'RetryAttempts': 0}}"
      ]
     },
     "execution_count": 7,
     "metadata": {},
     "output_type": "execute_result"
    }
   ],
   "source": [
    "forecast.describe_forecast(ForecastArn = deeparp_forecast_arn)"
   ]
  },
  {
   "cell_type": "code",
   "execution_count": 10,
   "metadata": {},
   "outputs": [
    {
     "name": "stdout",
     "output_type": "stream",
     "text": [
      "Prophet:  CREATE_IN_PROGRESS\n",
      "DeepARP:  CREATE_IN_PROGRESS\n",
      "Prophet:  CREATE_IN_PROGRESS\n",
      "DeepARP:  CREATE_IN_PROGRESS\n",
      "Prophet:  CREATE_IN_PROGRESS\n",
      "DeepARP:  CREATE_IN_PROGRESS\n",
      "Prophet:  CREATE_IN_PROGRESS\n",
      "DeepARP:  CREATE_IN_PROGRESS\n",
      "Prophet:  CREATE_IN_PROGRESS\n",
      "DeepARP:  CREATE_IN_PROGRESS\n",
      "Prophet:  CREATE_IN_PROGRESS\n",
      "DeepARP:  CREATE_IN_PROGRESS\n",
      "Prophet:  CREATE_IN_PROGRESS\n",
      "DeepARP:  CREATE_IN_PROGRESS\n",
      "Prophet:  CREATE_IN_PROGRESS\n",
      "DeepARP:  CREATE_IN_PROGRESS\n",
      "Prophet:  CREATE_IN_PROGRESS\n",
      "DeepARP:  CREATE_IN_PROGRESS\n",
      "Prophet:  CREATE_IN_PROGRESS\n",
      "DeepARP:  CREATE_IN_PROGRESS\n",
      "Prophet:  CREATE_IN_PROGRESS\n",
      "DeepARP:  CREATE_IN_PROGRESS\n",
      "Prophet:  CREATE_IN_PROGRESS\n",
      "DeepARP:  CREATE_IN_PROGRESS\n",
      "Prophet:  CREATE_IN_PROGRESS\n",
      "DeepARP:  CREATE_IN_PROGRESS\n",
      "Prophet:  CREATE_IN_PROGRESS\n",
      "DeepARP:  CREATE_IN_PROGRESS\n",
      "Prophet:  CREATE_IN_PROGRESS\n",
      "DeepARP:  CREATE_IN_PROGRESS\n",
      "Prophet:  CREATE_IN_PROGRESS\n",
      "DeepARP:  CREATE_IN_PROGRESS\n",
      "Prophet:  CREATE_IN_PROGRESS\n",
      "DeepARP:  CREATE_IN_PROGRESS\n",
      "Prophet:  CREATE_IN_PROGRESS\n",
      "DeepARP:  CREATE_IN_PROGRESS\n",
      "Prophet:  CREATE_IN_PROGRESS\n",
      "DeepARP:  CREATE_IN_PROGRESS\n",
      "Prophet:  CREATE_IN_PROGRESS\n",
      "DeepARP:  CREATE_IN_PROGRESS\n",
      "Prophet:  ACTIVE\n",
      "DeepARP:  ACTIVE\n",
      "CPU times: user 140 ms, sys: 21.3 ms, total: 162 ms\n",
      "Wall time: 20min 2s\n"
     ]
    }
   ],
   "source": [
    "%%time\n",
    "# Check the Prophet status\n",
    "\n",
    "while True:\n",
    "    createProphetStatus = forecast.describe_forecast(ForecastArn= prophet_forecast_arn)['Status']\n",
    "    createDeeparpStatus = forecast.describe_forecast(ForecastArn= deeparp_forecast_arn)['Status']    \n",
    "    print(\"Prophet: \", createProphetStatus)\n",
    "    print(\"DeepARP: \", createProphetStatus)     \n",
    "    if (createProphetStatus != 'ACTIVE' and createProphetStatus != 'CREATE_FAILED') or (createDeeparpStatus != 'ACTIVE' and createDeeparpStatus != 'CREATE_FAILED'):\n",
    "        sleep(60)    \n",
    "    else:\n",
    "        break"
   ]
  },
  {
   "cell_type": "markdown",
   "metadata": {},
   "source": [
    "## Upload forecast results to S3\n",
    "- Forecast를 가지고 일괄적으로 예측 작업을 하여 결과를 S3에 저장 합니다."
   ]
  },
  {
   "cell_type": "code",
   "execution_count": 11,
   "metadata": {},
   "outputs": [],
   "source": [
    "prophet_path = \"s3://\" + bucket_name + \"/\" + bucket_folder + \"/prophet_\" + suffix + \"/\" \n",
    "prophet_job_name = \"ProphetExport1\"+ suffix\n",
    "create_forecast_export_job_prophet_response = forecast.create_forecast_export_job(\n",
    "    ForecastExportJobName = prophet_job_name,\n",
    "    ForecastArn = prophet_forecast_arn,\n",
    "    Destination={\n",
    "        \"S3Config\" : {\n",
    "            \"Path\": prophet_path,\n",
    "            \"RoleArn\": role_arn\n",
    "        }\n",
    "    })\n"
   ]
  },
  {
   "cell_type": "code",
   "execution_count": 12,
   "metadata": {},
   "outputs": [
    {
     "data": {
      "text/plain": [
       "{'ForecastExportJobArn': 'arn:aws:forecast:ap-northeast-2:870180618679:forecast-export-job/StoreItemDemand_prophet_algo_forecast04627/ProphetExport104627',\n",
       " 'ForecastExportJobName': 'ProphetExport104627',\n",
       " 'ForecastArn': 'arn:aws:forecast:ap-northeast-2:870180618679:forecast/StoreItemDemand_prophet_algo_forecast04627',\n",
       " 'Destination': {'S3Config': {'Path': 's3://sagemaker-ap-northeast-2-870180618679/StoreItemDemand/prophet_04627',\n",
       "   'RoleArn': 'arn:aws:iam::870180618679:role/ForecastRolePOC04627'}},\n",
       " 'Status': 'CREATE_PENDING',\n",
       " 'CreationTime': datetime.datetime(2020, 7, 12, 15, 15, 32, 677000, tzinfo=tzlocal()),\n",
       " 'LastModificationTime': datetime.datetime(2020, 7, 12, 15, 15, 32, 677000, tzinfo=tzlocal()),\n",
       " 'ResponseMetadata': {'RequestId': '2280acc7-445c-41a5-9d38-da29ef5323b7',\n",
       "  'HTTPStatusCode': 200,\n",
       "  'HTTPHeaders': {'content-type': 'application/x-amz-json-1.1',\n",
       "   'date': 'Sun, 12 Jul 2020 15:15:33 GMT',\n",
       "   'x-amzn-requestid': '2280acc7-445c-41a5-9d38-da29ef5323b7',\n",
       "   'content-length': '586',\n",
       "   'connection': 'keep-alive'},\n",
       "  'RetryAttempts': 0}}"
      ]
     },
     "execution_count": 12,
     "metadata": {},
     "output_type": "execute_result"
    }
   ],
   "source": [
    "ForecastProphetExportJobArn = create_forecast_export_job_prophet_response[\"ForecastExportJobArn\"]\n",
    "forecast.describe_forecast_export_job(ForecastExportJobArn = ForecastProphetExportJobArn)"
   ]
  },
  {
   "cell_type": "code",
   "execution_count": 13,
   "metadata": {},
   "outputs": [],
   "source": [
    "deeparp_path = \"s3://\" + bucket_name + \"/\" +  bucket_folder +  \"/deeparp_\"  + suffix + \"/\" \n",
    "deeparp_job_name = \"DeepARPExport1\" + suffix\n",
    "create_forecast_export_job_deeparp_response = forecast.create_forecast_export_job(\n",
    "    ForecastExportJobName =deeparp_job_name,\n",
    "    ForecastArn = deeparp_forecast_arn,\n",
    "    Destination={\n",
    "        \"S3Config\" : {\n",
    "            \"Path\": deeparp_path ,\n",
    "            \"RoleArn\": role_arn\n",
    "        }\n",
    "    })\n",
    "\n"
   ]
  },
  {
   "cell_type": "code",
   "execution_count": 16,
   "metadata": {},
   "outputs": [
    {
     "data": {
      "text/plain": [
       "{'ForecastExportJobArn': 'arn:aws:forecast:ap-northeast-2:870180618679:forecast-export-job/StoreItemDemand_deeparp_algo_forecast04627/DeepARPExport104627',\n",
       " 'ForecastExportJobName': 'DeepARPExport104627',\n",
       " 'ForecastArn': 'arn:aws:forecast:ap-northeast-2:870180618679:forecast/StoreItemDemand_deeparp_algo_forecast04627',\n",
       " 'Destination': {'S3Config': {'Path': 's3://sagemaker-ap-northeast-2-870180618679/StoreItemDemand/deeparp_04627',\n",
       "   'RoleArn': 'arn:aws:iam::870180618679:role/ForecastRolePOC04627'}},\n",
       " 'Status': 'CREATE_IN_PROGRESS',\n",
       " 'CreationTime': datetime.datetime(2020, 7, 12, 15, 15, 34, 243000, tzinfo=tzlocal()),\n",
       " 'LastModificationTime': datetime.datetime(2020, 7, 12, 15, 15, 34, 811000, tzinfo=tzlocal()),\n",
       " 'ResponseMetadata': {'RequestId': 'd35d271e-c2c9-4644-99c6-27a329390d92',\n",
       "  'HTTPStatusCode': 200,\n",
       "  'HTTPHeaders': {'content-type': 'application/x-amz-json-1.1',\n",
       "   'date': 'Sun, 12 Jul 2020 15:16:28 GMT',\n",
       "   'x-amzn-requestid': 'd35d271e-c2c9-4644-99c6-27a329390d92',\n",
       "   'content-length': '590',\n",
       "   'connection': 'keep-alive'},\n",
       "  'RetryAttempts': 0}}"
      ]
     },
     "execution_count": 16,
     "metadata": {},
     "output_type": "execute_result"
    }
   ],
   "source": [
    "ForecastDeeparExportJobArn = create_forecast_export_job_deeparp_response[\"ForecastExportJobArn\"]\n",
    "forecast.describe_forecast_export_job(ForecastExportJobArn = ForecastDeeparExportJobArn)\n",
    "\n"
   ]
  },
  {
   "cell_type": "markdown",
   "metadata": {},
   "source": [
    "This exporting process is another one of those items that will take several minutes to complete. Just poll for progress in the console. From the earlier page where you saw the status turn `Active` for a Forecast, click it and you can see the progress of the export."
   ]
  },
  {
   "cell_type": "code",
   "execution_count": 17,
   "metadata": {},
   "outputs": [
    {
     "name": "stdout",
     "output_type": "stream",
     "text": [
      "Prophet:  CREATE_IN_PROGRESS\n",
      "DeepARP:  CREATE_IN_PROGRESS\n",
      "Prophet:  CREATE_IN_PROGRESS\n",
      "DeepARP:  CREATE_IN_PROGRESS\n",
      "Prophet:  CREATE_IN_PROGRESS\n",
      "DeepARP:  CREATE_IN_PROGRESS\n",
      "Prophet:  CREATE_IN_PROGRESS\n",
      "DeepARP:  CREATE_IN_PROGRESS\n",
      "Prophet:  CREATE_IN_PROGRESS\n",
      "DeepARP:  CREATE_IN_PROGRESS\n",
      "Prophet:  CREATE_IN_PROGRESS\n",
      "DeepARP:  CREATE_IN_PROGRESS\n",
      "Prophet:  CREATE_IN_PROGRESS\n",
      "DeepARP:  CREATE_IN_PROGRESS\n",
      "Prophet:  ACTIVE\n",
      "DeepARP:  ACTIVE\n",
      "CPU times: user 69.9 ms, sys: 5.76 ms, total: 75.7 ms\n",
      "Wall time: 7min 1s\n"
     ]
    }
   ],
   "source": [
    "%%time\n",
    "# Check the Prophet status\n",
    "\n",
    "while True:\n",
    "    createProphetStatus = forecast.describe_forecast_export_job(ForecastExportJobArn= ForecastProphetExportJobArn)['Status']\n",
    "    createDeeparpStatus = forecast.describe_forecast_export_job(ForecastExportJobArn= ForecastDeeparExportJobArn)['Status']    \n",
    "    print(\"Prophet: \", createProphetStatus)\n",
    "    print(\"DeepARP: \", createProphetStatus)          \n",
    "    if (createProphetStatus != 'ACTIVE' and createProphetStatus != 'CREATE_FAILED') or (createDeeparpStatus != 'ACTIVE' and createDeeparpStatus != 'CREATE_FAILED'):\n",
    "        sleep(60)\n",
    "        \n",
    "    else:\n",
    "        break"
   ]
  },
  {
   "cell_type": "code",
   "execution_count": null,
   "metadata": {},
   "outputs": [],
   "source": [
    "%store prophet_forecast_arn\n",
    "%store deeparp_forecast_arn\n",
    "%store ForecastProphetExportJobArn\n",
    "%store ForecastDeeparExportJobArn\n",
    "\n"
   ]
  }
 ],
 "metadata": {
  "kernelspec": {
   "display_name": "conda_python3",
   "language": "python",
   "name": "conda_python3"
  },
  "language_info": {
   "codemirror_mode": {
    "name": "ipython",
    "version": 3
   },
   "file_extension": ".py",
   "mimetype": "text/x-python",
   "name": "python",
   "nbconvert_exporter": "python",
   "pygments_lexer": "ipython3",
   "version": "3.6.5"
  }
 },
 "nbformat": 4,
 "nbformat_minor": 4
}
