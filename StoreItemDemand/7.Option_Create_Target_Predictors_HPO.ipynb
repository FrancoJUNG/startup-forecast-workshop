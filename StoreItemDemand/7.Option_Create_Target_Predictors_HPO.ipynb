{
 "cells": [
  {
   "cell_type": "markdown",
   "metadata": {},
   "source": [
    "# Create DeepAR+ predcitors with HPO\n",
    "\n",
    "* **About 90 mins may be elapsed**"
   ]
  },
  {
   "cell_type": "code",
   "execution_count": 1,
   "metadata": {},
   "outputs": [],
   "source": [
    "import boto3\n",
    "from time import sleep\n",
    "import pandas as pd\n",
    "import json\n",
    "import time\n",
    "import pprint\n",
    "import numpy as np"
   ]
  },
  {
   "cell_type": "code",
   "execution_count": 2,
   "metadata": {},
   "outputs": [],
   "source": [
    "# 다른 노트북에서 저장된 변수들을 불러옴\n",
    "%store -r"
   ]
  },
  {
   "cell_type": "code",
   "execution_count": 3,
   "metadata": {},
   "outputs": [],
   "source": [
    "session = boto3.Session(region_name=region)\n",
    "forecast = session.client(service_name='forecast')\n",
    "forecast_query = session.client(service_name='forecastquery')"
   ]
  },
  {
   "cell_type": "markdown",
   "metadata": {},
   "source": [
    "## Hyperparameters"
   ]
  },
  {
   "cell_type": "code",
   "execution_count": 4,
   "metadata": {},
   "outputs": [],
   "source": [
    "forecastHorizon = 31 # the number of forecasts\n",
    "NumberOfBacktestWindows = 2 # the number of backtests\n",
    "BackTestWindowOffset = 31 \n",
    "ForecastFrequency = \"D\""
   ]
  },
  {
   "cell_type": "markdown",
   "metadata": {},
   "source": [
    "The detailed parameter info is [here](https://docs.aws.amazon.com/forecast/latest/dg/metrics.html) 를 보세요."
   ]
  },
  {
   "cell_type": "markdown",
   "metadata": {},
   "source": [
    "#### Predictor algorithms"
   ]
  },
  {
   "cell_type": "code",
   "execution_count": 5,
   "metadata": {},
   "outputs": [],
   "source": [
    "deepAR_Plus_algorithmArn = 'arn:aws:forecast:::algorithm/Deep_AR_Plus'"
   ]
  },
  {
   "cell_type": "markdown",
   "metadata": {},
   "source": [
    "### DeepAR+"
   ]
  },
  {
   "cell_type": "code",
   "execution_count": 6,
   "metadata": {},
   "outputs": [],
   "source": [
    "# DeepAR+ Specifics\n",
    "deeparp_predictorName= project+'_deeparp_algo_HPO' + suffix"
   ]
  },
  {
   "cell_type": "code",
   "execution_count": 7,
   "metadata": {},
   "outputs": [],
   "source": [
    "# Build DeepAR+:\n",
    "deeparp_create_predictor_response=forecast.create_predictor(\n",
    "      PredictorName=deeparp_predictorName, \n",
    "      AlgorithmArn=deepAR_Plus_algorithmArn,\n",
    "      ForecastHorizon=forecastHorizon,\n",
    "      PerformAutoML= False,\n",
    "      PerformHPO=True,\n",
    "      EvaluationParameters= {\"NumberOfBacktestWindows\": NumberOfBacktestWindows, \n",
    "                             \"BackTestWindowOffset\": BackTestWindowOffset}, \n",
    "      InputDataConfig= {\"DatasetGroupArn\": target_datasetGroupArn, \"SupplementaryFeatures\": [ \n",
    "                         { \n",
    "                            \"Name\": \"holiday\",\n",
    "                            \"Value\": \"US\"\n",
    "                         }\n",
    "                      ]},\n",
    "      FeaturizationConfig= {\"ForecastFrequency\": ForecastFrequency, \n",
    "                            \"ForecastDimensions\":\n",
    "                            [\"store\"],\n",
    "                            \n",
    "                            \"Featurizations\": \n",
    "                            [\n",
    "                              {\"AttributeName\": \"target_value\", \n",
    "                               \"FeaturizationPipeline\": \n",
    "                                [\n",
    "                                  {\"FeaturizationMethodName\": \"filling\", \n",
    "                                   \"FeaturizationMethodParameters\": \n",
    "                                    {\"frontfill\": \"none\", \n",
    "                                     \"middlefill\": \"zero\", \n",
    "                                     \"backfill\": \"zero\"}\n",
    "                                  }\n",
    "                                ]\n",
    "                              }\n",
    "                            ]\n",
    "                           }\n",
    "                                                 )\n",
    "\n",
    "\n",
    "\n"
   ]
  },
  {
   "cell_type": "markdown",
   "metadata": {},
   "source": [
    "## Check if the predictors are active\n"
   ]
  },
  {
   "cell_type": "code",
   "execution_count": 8,
   "metadata": {},
   "outputs": [],
   "source": [
    "# forecast.list_predictors(Filters=[\n",
    "#     {\"Condition\": \"IS\",\n",
    "#      \"Key\": \"DatasetGroupArn\", \n",
    "#      \"Value\": datasetGroupArn}\n",
    "# ])"
   ]
  },
  {
   "cell_type": "code",
   "execution_count": 9,
   "metadata": {},
   "outputs": [],
   "source": [
    "target_deepar_hpo_predictorArn = deeparp_create_predictor_response[\"PredictorArn\"]"
   ]
  },
  {
   "cell_type": "code",
   "execution_count": 10,
   "metadata": {},
   "outputs": [
    {
     "name": "stdout",
     "output_type": "stream",
     "text": [
      "DeepARP:  CREATE_PENDING\n",
      "DeepARP:  CREATE_IN_PROGRESS\n",
      "DeepARP:  CREATE_IN_PROGRESS\n",
      "DeepARP:  CREATE_IN_PROGRESS\n",
      "DeepARP:  CREATE_IN_PROGRESS\n",
      "DeepARP:  CREATE_IN_PROGRESS\n",
      "DeepARP:  CREATE_IN_PROGRESS\n",
      "DeepARP:  CREATE_IN_PROGRESS\n",
      "DeepARP:  CREATE_IN_PROGRESS\n",
      "DeepARP:  CREATE_IN_PROGRESS\n",
      "DeepARP:  CREATE_IN_PROGRESS\n",
      "DeepARP:  CREATE_IN_PROGRESS\n",
      "DeepARP:  CREATE_IN_PROGRESS\n",
      "DeepARP:  CREATE_IN_PROGRESS\n",
      "DeepARP:  CREATE_IN_PROGRESS\n",
      "DeepARP:  CREATE_IN_PROGRESS\n",
      "DeepARP:  CREATE_IN_PROGRESS\n",
      "DeepARP:  CREATE_IN_PROGRESS\n",
      "DeepARP:  CREATE_IN_PROGRESS\n",
      "DeepARP:  CREATE_IN_PROGRESS\n",
      "DeepARP:  CREATE_IN_PROGRESS\n",
      "DeepARP:  CREATE_IN_PROGRESS\n",
      "DeepARP:  CREATE_IN_PROGRESS\n",
      "DeepARP:  CREATE_IN_PROGRESS\n",
      "DeepARP:  CREATE_IN_PROGRESS\n",
      "DeepARP:  CREATE_IN_PROGRESS\n",
      "DeepARP:  CREATE_IN_PROGRESS\n",
      "DeepARP:  CREATE_IN_PROGRESS\n",
      "DeepARP:  CREATE_IN_PROGRESS\n",
      "DeepARP:  CREATE_IN_PROGRESS\n",
      "DeepARP:  CREATE_IN_PROGRESS\n",
      "DeepARP:  CREATE_IN_PROGRESS\n",
      "DeepARP:  CREATE_IN_PROGRESS\n",
      "DeepARP:  CREATE_IN_PROGRESS\n",
      "DeepARP:  CREATE_IN_PROGRESS\n",
      "DeepARP:  CREATE_IN_PROGRESS\n",
      "DeepARP:  CREATE_IN_PROGRESS\n",
      "DeepARP:  CREATE_IN_PROGRESS\n",
      "DeepARP:  CREATE_IN_PROGRESS\n",
      "DeepARP:  CREATE_IN_PROGRESS\n",
      "DeepARP:  CREATE_IN_PROGRESS\n",
      "DeepARP:  CREATE_IN_PROGRESS\n",
      "DeepARP:  CREATE_IN_PROGRESS\n",
      "DeepARP:  CREATE_IN_PROGRESS\n",
      "DeepARP:  CREATE_IN_PROGRESS\n",
      "DeepARP:  CREATE_IN_PROGRESS\n",
      "DeepARP:  CREATE_IN_PROGRESS\n",
      "DeepARP:  CREATE_IN_PROGRESS\n",
      "DeepARP:  CREATE_IN_PROGRESS\n",
      "DeepARP:  CREATE_IN_PROGRESS\n",
      "DeepARP:  CREATE_IN_PROGRESS\n",
      "DeepARP:  CREATE_IN_PROGRESS\n",
      "DeepARP:  CREATE_IN_PROGRESS\n",
      "DeepARP:  CREATE_IN_PROGRESS\n",
      "DeepARP:  CREATE_IN_PROGRESS\n",
      "DeepARP:  CREATE_IN_PROGRESS\n",
      "DeepARP:  CREATE_IN_PROGRESS\n",
      "DeepARP:  CREATE_IN_PROGRESS\n",
      "DeepARP:  CREATE_IN_PROGRESS\n",
      "DeepARP:  CREATE_IN_PROGRESS\n",
      "DeepARP:  CREATE_IN_PROGRESS\n",
      "DeepARP:  CREATE_IN_PROGRESS\n",
      "DeepARP:  CREATE_IN_PROGRESS\n",
      "DeepARP:  CREATE_IN_PROGRESS\n",
      "DeepARP:  CREATE_IN_PROGRESS\n",
      "DeepARP:  CREATE_IN_PROGRESS\n",
      "DeepARP:  CREATE_IN_PROGRESS\n",
      "DeepARP:  CREATE_IN_PROGRESS\n",
      "DeepARP:  CREATE_IN_PROGRESS\n",
      "DeepARP:  CREATE_IN_PROGRESS\n",
      "DeepARP:  CREATE_IN_PROGRESS\n",
      "DeepARP:  CREATE_IN_PROGRESS\n",
      "DeepARP:  CREATE_IN_PROGRESS\n",
      "DeepARP:  CREATE_IN_PROGRESS\n",
      "DeepARP:  CREATE_IN_PROGRESS\n",
      "DeepARP:  CREATE_IN_PROGRESS\n",
      "DeepARP:  CREATE_IN_PROGRESS\n",
      "DeepARP:  CREATE_IN_PROGRESS\n",
      "DeepARP:  CREATE_IN_PROGRESS\n",
      "DeepARP:  CREATE_IN_PROGRESS\n",
      "DeepARP:  CREATE_IN_PROGRESS\n",
      "DeepARP:  CREATE_IN_PROGRESS\n",
      "DeepARP:  CREATE_IN_PROGRESS\n",
      "DeepARP:  CREATE_IN_PROGRESS\n",
      "DeepARP:  CREATE_IN_PROGRESS\n",
      "DeepARP:  CREATE_IN_PROGRESS\n",
      "DeepARP:  ACTIVE\n",
      "CPU times: user 426 ms, sys: 38 ms, total: 464 ms\n",
      "Wall time: 1h 26min 8s\n"
     ]
    }
   ],
   "source": [
    "%%time\n",
    "# Check the Prophet status\n",
    "\n",
    "while True:\n",
    "    createDeeparpPredictorStatus = forecast.describe_predictor(PredictorArn= target_deepar_hpo_predictorArn)['Status']    \n",
    "    print(\"DeepARP: \", createDeeparpPredictorStatus)          \n",
    "    if createDeeparpPredictorStatus != 'ACTIVE' and createDeeparpPredictorStatus != 'CREATE_FAILED':\n",
    "        sleep(60)\n",
    "    else:\n",
    "        break"
   ]
  },
  {
   "cell_type": "code",
   "execution_count": 13,
   "metadata": {},
   "outputs": [
    {
     "data": {
      "text/plain": [
       "{'PredictorArn': 'arn:aws:forecast:us-east-2:057716757052:predictor/StoreItemDemand_deeparp_algo_HPO47645',\n",
       " 'PredictorName': 'StoreItemDemand_deeparp_algo_HPO47645',\n",
       " 'AlgorithmArn': 'arn:aws:forecast:::algorithm/Deep_AR_Plus',\n",
       " 'ForecastHorizon': 31,\n",
       " 'PerformAutoML': False,\n",
       " 'PerformHPO': True,\n",
       " 'TrainingParameters': {'context_length': '196',\n",
       "  'epochs': '500',\n",
       "  'learning_rate': '0.003123529019933621',\n",
       "  'learning_rate_decay': '0.5',\n",
       "  'likelihood': 'student-t',\n",
       "  'max_learning_rate_decays': '0',\n",
       "  'num_averaged_models': '1',\n",
       "  'num_cells': '40',\n",
       "  'num_layers': '2',\n",
       "  'prediction_length': '31'},\n",
       " 'EvaluationParameters': {'NumberOfBacktestWindows': 2,\n",
       "  'BackTestWindowOffset': 31},\n",
       " 'InputDataConfig': {'DatasetGroupArn': 'arn:aws:forecast:us-east-2:057716757052:dataset-group/StoreItemDemandDSG_target47645',\n",
       "  'SupplementaryFeatures': [{'Name': 'holiday', 'Value': 'US'}]},\n",
       " 'FeaturizationConfig': {'ForecastFrequency': 'D',\n",
       "  'ForecastDimensions': ['store'],\n",
       "  'Featurizations': [{'AttributeName': 'target_value',\n",
       "    'FeaturizationPipeline': [{'FeaturizationMethodName': 'filling',\n",
       "      'FeaturizationMethodParameters': {'aggregation': 'sum',\n",
       "       'backfill': 'zero',\n",
       "       'frontfill': 'none',\n",
       "       'middlefill': 'zero'}}]}]},\n",
       " 'PredictorExecutionDetails': {'PredictorExecutions': [{'AlgorithmArn': 'arn:aws:forecast:::algorithm/Deep_AR_Plus',\n",
       "    'TestWindows': [{'TestWindowStart': datetime.datetime(2017, 10, 31, 0, 0, tzinfo=tzlocal()),\n",
       "      'TestWindowEnd': datetime.datetime(2017, 12, 1, 0, 0, tzinfo=tzlocal()),\n",
       "      'Status': 'ACTIVE'},\n",
       "     {'TestWindowStart': datetime.datetime(2017, 9, 30, 0, 0, tzinfo=tzlocal()),\n",
       "      'TestWindowEnd': datetime.datetime(2017, 10, 31, 0, 0, tzinfo=tzlocal()),\n",
       "      'Status': 'ACTIVE'}]}]},\n",
       " 'DatasetImportJobArns': ['arn:aws:forecast:us-east-2:057716757052:dataset-import-job/StoreItemDemandDS47645/DSIMPORT_JOB_TARGET_WALMART47645'],\n",
       " 'AutoMLAlgorithmArns': ['arn:aws:forecast:::algorithm/Deep_AR_Plus'],\n",
       " 'Status': 'ACTIVE',\n",
       " 'CreationTime': datetime.datetime(2020, 3, 28, 8, 18, 6, 267000, tzinfo=tzlocal()),\n",
       " 'LastModificationTime': datetime.datetime(2020, 3, 28, 9, 44, 2, 362000, tzinfo=tzlocal()),\n",
       " 'ResponseMetadata': {'RequestId': 'fa2e8f13-bad6-4ae9-b97f-5978841202bd',\n",
       "  'HTTPStatusCode': 200,\n",
       "  'HTTPHeaders': {'content-type': 'application/x-amz-json-1.1',\n",
       "   'date': 'Sat, 28 Mar 2020 13:23:13 GMT',\n",
       "   'x-amzn-requestid': 'fa2e8f13-bad6-4ae9-b97f-5978841202bd',\n",
       "   'content-length': '1704',\n",
       "   'connection': 'keep-alive'},\n",
       "  'RetryAttempts': 0}}"
      ]
     },
     "execution_count": 13,
     "metadata": {},
     "output_type": "execute_result"
    }
   ],
   "source": [
    "# 90 mins elapsed\n",
    "forecast.describe_predictor(PredictorArn= target_deepar_hpo_predictorArn)   "
   ]
  },
  {
   "cell_type": "markdown",
   "metadata": {},
   "source": [
    "## Predictor evaluation"
   ]
  },
  {
   "cell_type": "markdown",
   "metadata": {},
   "source": [
    "#### DeepAR+\n",
    "\n",
    "Same as Prophet and ARIMA, now you should look at the metrics from it."
   ]
  },
  {
   "cell_type": "code",
   "execution_count": 11,
   "metadata": {},
   "outputs": [
    {
     "name": "stdout",
     "output_type": "stream",
     "text": [
      "{'PredictorEvaluationResults': [{'AlgorithmArn': 'arn:aws:forecast:::algorithm/Deep_AR_Plus',\n",
      "                                 'TestWindows': [{'EvaluationType': 'SUMMARY',\n",
      "                                                  'Metrics': {'RMSE': 9.473244457476685,\n",
      "                                                              'WeightedQuantileLosses': [{'LossValue': 0.05528602179939943,\n",
      "                                                                                          'Quantile': 0.9},\n",
      "                                                                                         {'LossValue': 0.12314987504889768,\n",
      "                                                                                          'Quantile': 0.5},\n",
      "                                                                                         {'LossValue': 0.053503202816914855,\n",
      "                                                                                          'Quantile': 0.1}]}},\n",
      "                                                 {'EvaluationType': 'COMPUTED',\n",
      "                                                  'ItemCount': 500,\n",
      "                                                  'Metrics': {'RMSE': 10.321344699089316,\n",
      "                                                              'WeightedQuantileLosses': [{'LossValue': 0.06037575803210475,\n",
      "                                                                                          'Quantile': 0.9},\n",
      "                                                                                         {'LossValue': 0.13799166281174718,\n",
      "                                                                                          'Quantile': 0.5},\n",
      "                                                                                         {'LossValue': 0.06044634879824269,\n",
      "                                                                                          'Quantile': 0.1}]},\n",
      "                                                  'TestWindowEnd': datetime.datetime(2017, 10, 31, 0, 0, tzinfo=tzlocal()),\n",
      "                                                  'TestWindowStart': datetime.datetime(2017, 9, 30, 0, 0, tzinfo=tzlocal())},\n",
      "                                                 {'EvaluationType': 'COMPUTED',\n",
      "                                                  'ItemCount': 500,\n",
      "                                                  'Metrics': {'RMSE': 8.625144215864056,\n",
      "                                                              'WeightedQuantileLosses': [{'LossValue': 0.05019628556669407,\n",
      "                                                                                          'Quantile': 0.9},\n",
      "                                                                                         {'LossValue': 0.10830808728604827,\n",
      "                                                                                          'Quantile': 0.5},\n",
      "                                                                                         {'LossValue': 0.04656005683558701,\n",
      "                                                                                          'Quantile': 0.1}]},\n",
      "                                                  'TestWindowEnd': datetime.datetime(2017, 12, 1, 0, 0, tzinfo=tzlocal()),\n",
      "                                                  'TestWindowStart': datetime.datetime(2017, 10, 31, 0, 0, tzinfo=tzlocal())}]}],\n",
      " 'ResponseMetadata': {'HTTPHeaders': {'connection': 'keep-alive',\n",
      "                                      'content-length': '979',\n",
      "                                      'content-type': 'application/x-amz-json-1.1',\n",
      "                                      'date': 'Sat, 28 Mar 2020 09:44:17 GMT',\n",
      "                                      'x-amzn-requestid': 'b3a174da-9e1f-4c72-b859-7ac356c78f43'},\n",
      "                      'HTTPStatusCode': 200,\n",
      "                      'RequestId': 'b3a174da-9e1f-4c72-b859-7ac356c78f43',\n",
      "                      'RetryAttempts': 0}}\n"
     ]
    }
   ],
   "source": [
    "# DeepAR+ Metrics\n",
    "# deepar_predictor_arn = deeparp_create_predictor_response['PredictorArn']\n",
    "deeparp_metrics = forecast.get_accuracy_metrics(PredictorArn=target_deepar_hpo_predictorArn)\n",
    "pp = pprint.PrettyPrinter()\n",
    "pp.pprint(deeparp_metrics)"
   ]
  },
  {
   "cell_type": "code",
   "execution_count": 12,
   "metadata": {},
   "outputs": [
    {
     "name": "stdout",
     "output_type": "stream",
     "text": [
      "Stored 'target_prophet_predictorArn' (str)\n",
      "Stored 'target_deepar_predictorArn' (str)\n"
     ]
    }
   ],
   "source": [
    "%store target_deepar_hpo_predictorArn"
   ]
  },
  {
   "cell_type": "code",
   "execution_count": null,
   "metadata": {},
   "outputs": [],
   "source": []
  },
  {
   "cell_type": "code",
   "execution_count": null,
   "metadata": {},
   "outputs": [],
   "source": []
  }
 ],
 "metadata": {
  "kernelspec": {
   "display_name": "conda_python3",
   "language": "python",
   "name": "conda_python3"
  },
  "language_info": {
   "codemirror_mode": {
    "name": "ipython",
    "version": 3
   },
   "file_extension": ".py",
   "mimetype": "text/x-python",
   "name": "python",
   "nbconvert_exporter": "python",
   "pygments_lexer": "ipython3",
   "version": "3.6.5"
  }
 },
 "nbformat": 4,
 "nbformat_minor": 4
}
